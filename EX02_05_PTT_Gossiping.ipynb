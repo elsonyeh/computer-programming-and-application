{
  "nbformat": 4,
  "nbformat_minor": 0,
  "metadata": {
    "colab": {
      "provenance": [],
      "authorship_tag": "ABX9TyOFzvKlh4pcnD/dvXODBy15",
      "include_colab_link": true
    },
    "kernelspec": {
      "name": "python3",
      "display_name": "Python 3"
    },
    "language_info": {
      "name": "python"
    }
  },
  "cells": [
    {
      "cell_type": "markdown",
      "metadata": {
        "id": "view-in-github",
        "colab_type": "text"
      },
      "source": [
        "<a href=\"https://colab.research.google.com/github/elsonyeh/computer-programming-and-application/blob/main/EX02_05_PTT_Gossiping.ipynb\" target=\"_parent\"><img src=\"https://colab.research.google.com/assets/colab-badge.svg\" alt=\"Open In Colab\"/></a>"
      ]
    },
    {
      "cell_type": "code",
      "execution_count": 1,
      "metadata": {
        "colab": {
          "base_uri": "https://localhost:8080/"
        },
        "id": "h6JELV3iMlMe",
        "outputId": "fa7bec6e-9864-416b-f5c3-f07c00e264f1"
      },
      "outputs": [
        {
          "output_type": "execute_result",
          "data": {
            "text/plain": [
              "200"
            ]
          },
          "metadata": {},
          "execution_count": 1
        }
      ],
      "source": [
        "import requests\n",
        "from bs4 import BeautifulSoup\n",
        "\n",
        "url = \"https://www.ptt.cc/bbs/Movie/index.html\"\n",
        "response = requests.get(url)\n",
        "response.status_code"
      ]
    },
    {
      "cell_type": "code",
      "source": [
        "soup = BeautifulSoup(response.text, \"lxml\")\n",
        "soup.title"
      ],
      "metadata": {
        "colab": {
          "base_uri": "https://localhost:8080/"
        },
        "id": "IH7DuX0YNVH-",
        "outputId": "ebb039d8-7b20-4533-e563-6da52bcb8a7e"
      },
      "execution_count": 2,
      "outputs": [
        {
          "output_type": "execute_result",
          "data": {
            "text/plain": [
              "<title>看板 movie 文章列表 - 批踢踢實業坊</title>"
            ]
          },
          "metadata": {},
          "execution_count": 2
        }
      ]
    },
    {
      "cell_type": "code",
      "source": [
        "for atcl in soup.find_all(\"div\", class_=\"r-ent\"):\n",
        "  ttle = atcl.find(\"div\", class_=\"title\").a.text\n",
        "  href = \"https://www.ptt.cc\" + atcl.find(\"div\", class_=\"title\").a.get(\"href\")\n",
        "  date = atcl.find(\"div\", class_=\"date\").text\n",
        "  print(date, href, ttle)"
      ],
      "metadata": {
        "colab": {
          "base_uri": "https://localhost:8080/"
        },
        "id": "MugdWLBbNsaU",
        "outputId": "b6400e9b-4bf1-4930-f978-36c8faa8a9db"
      },
      "execution_count": 3,
      "outputs": [
        {
          "output_type": "stream",
          "name": "stdout",
          "text": [
            " 6/14 https://www.ptt.cc/bbs/movie/M.1749887020.A.AE4.html [問片] 火車上單親媽愛上假軍官騙徒的電影\n",
            " 6/14 https://www.ptt.cc/bbs/movie/M.1749888515.A.096.html [超爽雷] 馴龍高手 真人 必看4DX 喜歡怪獸就看\n",
            " 6/14 https://www.ptt.cc/bbs/movie/M.1749890825.A.E67.html [LIVE] HBO 22:00 天使營救\n",
            " 6/14 https://www.ptt.cc/bbs/movie/M.1749896817.A.014.html [新聞] 第二部《水深火熱》有望？雷尼哈林再戰\n",
            " 6/14 https://www.ptt.cc/bbs/movie/M.1749900219.A.185.html [討論] 雷文條款討論 以馴龍高手為例 (內有雷)\n",
            " 6/14 https://www.ptt.cc/bbs/movie/M.1749900365.A.143.html [問片] 一個退休上校和一個高中生？的片名\n",
            " 9/04 https://www.ptt.cc/bbs/movie/M.1630756788.A.1FE.html [公告] 電影板板規 2022/12/5\n",
            " 9/15 https://www.ptt.cc/bbs/movie/M.1694784041.A.89F.html [公告] 禁政治版規 及 投票結果\n"
          ]
        }
      ]
    },
    {
      "cell_type": "code",
      "source": [
        "\"https://www.ptt.cc\" + soup.find_all(\"a\", class_=\"btn wide\")[1].get(\"href\")"
      ],
      "metadata": {
        "colab": {
          "base_uri": "https://localhost:8080/",
          "height": 36
        },
        "id": "-rSvO8g7PCSO",
        "outputId": "a03b8fc3-3a34-454f-c217-225d05ef3656"
      },
      "execution_count": 4,
      "outputs": [
        {
          "output_type": "execute_result",
          "data": {
            "text/plain": [
              "'https://www.ptt.cc/bbs/movie/index10637.html'"
            ],
            "application/vnd.google.colaboratory.intrinsic+json": {
              "type": "string"
            }
          },
          "metadata": {},
          "execution_count": 4
        }
      ]
    },
    {
      "cell_type": "markdown",
      "source": [
        "### 電影版5篇"
      ],
      "metadata": {
        "id": "CRdaRGRMntIj"
      }
    },
    {
      "cell_type": "code",
      "source": [
        "def get_articles(url):\n",
        "  response = requests.get(url)\n",
        "  soup = BeautifulSoup(response.text, \"lxml\")\n",
        "  for atcl in soup.find_all(\"div\", class_=\"r-ent\"):\n",
        "    if atcl.find(\"div\", class_=\"title\").a:\n",
        "      ttle = atcl.find(\"div\", class_=\"title\").a.text\n",
        "      href = \"https://www.ptt.cc\" + atcl.find(\"div\", class_=\"title\").a.get(\"href\")\n",
        "    else:\n",
        "      ttle = atcl.find(\"div\", class_=\"title\").text.strip()\n",
        "      href = \"\"\n",
        "    date = atcl.find(\"div\", class_=\"date\").text\n",
        "    print(date, href, ttle)\n",
        "  url = \"https://www.ptt.cc\" + soup.find_all(\"a\", class_=\"btn wide\")[1].get(\"href\")\n",
        "  return url\n",
        "\n",
        "url = \"https://www.ptt.cc/bbs/Movie/index.html\"\n",
        "for i in range(5):\n",
        "  url = get_articles(url)"
      ],
      "metadata": {
        "colab": {
          "base_uri": "https://localhost:8080/"
        },
        "id": "IVP0lv6HPQtR",
        "outputId": "18c6c1a0-ee16-4caf-ab9c-c6767f191b25"
      },
      "execution_count": 5,
      "outputs": [
        {
          "output_type": "stream",
          "name": "stdout",
          "text": [
            " 6/14 https://www.ptt.cc/bbs/movie/M.1749887020.A.AE4.html [問片] 火車上單親媽愛上假軍官騙徒的電影\n",
            " 6/14 https://www.ptt.cc/bbs/movie/M.1749888515.A.096.html [超爽雷] 馴龍高手 真人 必看4DX 喜歡怪獸就看\n",
            " 6/14 https://www.ptt.cc/bbs/movie/M.1749890825.A.E67.html [LIVE] HBO 22:00 天使營救\n",
            " 6/14 https://www.ptt.cc/bbs/movie/M.1749896817.A.014.html [新聞] 第二部《水深火熱》有望？雷尼哈林再戰\n",
            " 6/14 https://www.ptt.cc/bbs/movie/M.1749900219.A.185.html [討論] 雷文條款討論 以馴龍高手為例 (內有雷)\n",
            " 6/14 https://www.ptt.cc/bbs/movie/M.1749900365.A.143.html [問片] 一個退休上校和一個高中生？的片名\n",
            " 9/04 https://www.ptt.cc/bbs/movie/M.1630756788.A.1FE.html [公告] 電影板板規 2022/12/5\n",
            " 9/15 https://www.ptt.cc/bbs/movie/M.1694784041.A.89F.html [公告] 禁政治版規 及 投票結果\n",
            " 6/13 https://www.ptt.cc/bbs/movie/M.1749801831.A.FD3.html [新聞] Jisoo、Nana不走甜美風！女神耍狠面貌曝\n",
            " 6/13 https://www.ptt.cc/bbs/movie/M.1749803129.A.FB5.html [選片] 28年毀滅倒數\n",
            " 6/13 https://www.ptt.cc/bbs/movie/M.1749805665.A.461.html [好微雷]馴龍高手 --為某原因二刷XD\n",
            " 6/13 https://www.ptt.cc/bbs/movie/M.1749806650.A.459.html [好雷] 捍衛任務：復仇芭蕾──值得一看的外傳\n",
            " 6/13 https://www.ptt.cc/bbs/movie/M.1749808241.A.2C1.html [好雷]【情書】X【心之谷】圖書館借書卡之戀 \n",
            " 6/13 https://www.ptt.cc/bbs/movie/M.1749814362.A.2A4.html [情報] 2025 評論家選擇超級獎 入圍名單\n",
            " 6/13 https://www.ptt.cc/bbs/movie/M.1749815682.A.AA2.html [新聞] 【全知讀者視角】七大主演分享演出心聲\n",
            " 6/13 https://www.ptt.cc/bbs/movie/M.1749817916.A.91C.html [討論] 詹姆斯岡恩真的有自我置入「超人」電影\n",
            " 6/13 https://www.ptt.cc/bbs/movie/M.1749823115.A.0CC.html [請益] 馴龍高手要看IMAX3D還是4DX3D\n",
            " 6/13 https://www.ptt.cc/bbs/movie/M.1749824941.A.FB9.html [問片] 想問一部穿越平行時空的電影\n",
            " 6/13 https://www.ptt.cc/bbs/movie/M.1749827303.A.871.html [問片]Outter Limits S2E7外星人化身美女,時間久了會發臭味\n",
            " 6/13 https://www.ptt.cc/bbs/movie/M.1749827798.A.C00.html [新聞] 星戰惡搞片《太空砲彈》預告\n",
            " 6/13  (本文已被刪除) [XDGEE]\n",
            " 6/13 https://www.ptt.cc/bbs/movie/M.1749828607.A.8C4.html [新聞]《玩具總動員5》反派「平板電腦」造型曝！\n",
            " 6/13 https://www.ptt.cc/bbs/movie/M.1749828683.A.5F2.html [新聞]《雷霆特攻隊》慘賠數千萬美元！漫威電影\n",
            " 6/14 https://www.ptt.cc/bbs/movie/M.1749835635.A.42E.html [新聞] 達珂塔強生：片商只會「重拍同樣的東西」\n",
            " 6/14 https://www.ptt.cc/bbs/movie/M.1749842907.A.314.html [好雷] 紀錄片-造山者 A chip Odyssey\n",
            " 6/14 https://www.ptt.cc/bbs/movie/M.1749872764.A.CD2.html [新聞] 「蜘蛛夫人」獲金酸莓獎 珊卓布拉克邀聚餐\n",
            " 6/14 https://www.ptt.cc/bbs/movie/M.1749877109.A.C81.html [新聞] 《名偵探柯南》《排球少年！！》大放異彩\n",
            " 6/14 https://www.ptt.cc/bbs/movie/M.1749881905.A.21D.html [新聞] 基努李維完美主義對自己狠　《捍衛任務》\n",
            " 6/12 https://www.ptt.cc/bbs/movie/M.1749739445.A.E05.html [好微雷] 沒有煙硝的愛情\n",
            " 6/12  (本文已被刪除) [XDGEE]\n",
            " 6/12 https://www.ptt.cc/bbs/movie/M.1749740255.A.A16.html [新聞]柔伊莎達娜嗨喊我的小金人是「跨性別」！\n",
            " 6/12 https://www.ptt.cc/bbs/movie/M.1749740298.A.E77.html [新聞]岡恩拒將雷神索爾加入《星際異攻隊》！終\n",
            " 6/12  (本文已被刪除) [kidplus0731]\n",
            " 6/12  (本文已被刪除) [kidplus0731]\n",
            " 6/12 https://www.ptt.cc/bbs/movie/M.1749743127.A.358.html [新聞]獨／預購《馴龍高手》海報撲空　影城主管\n",
            " 6/12 https://www.ptt.cc/bbs/movie/M.1749743413.A.BF1.html [情報] 歌劇魅影 20週年經典重映\n",
            " 6/13 https://www.ptt.cc/bbs/movie/M.1749744439.A.FF0.html [新聞] 《造山者》聚焦台灣 刻劃半導體產業史\n",
            " 6/13 https://www.ptt.cc/bbs/movie/M.1749744884.A.559.html [討論] 音速小子3導演解釋金凱瑞雷射跳舞\n",
            " 6/13 https://www.ptt.cc/bbs/movie/M.1749745897.A.102.html Re: [ 好雷] 寶藏獵人-意外好笑的法國喜劇\n",
            " 6/13 https://www.ptt.cc/bbs/movie/M.1749750919.A.839.html [好雷] 赤眼玄機\n",
            " 6/13 https://www.ptt.cc/bbs/movie/M.1749775635.A.54B.html [討論] 越來越難一口氣看完一部電影了...\n",
            " 6/13 https://www.ptt.cc/bbs/movie/M.1749778591.A.B21.html [新聞] 《咒怨2》齋藤步病逝！曾拍抗癌紀錄片　\n",
            " 6/13 https://www.ptt.cc/bbs/movie/M.1749782832.A.9F8.html [普雷] 吸血鬼：諾斯費拉圖Nosferatu\n",
            " 6/13 https://www.ptt.cc/bbs/movie/M.1749786276.A.4C5.html [普雷] 五重點探討《不可能的任務：最終清算》\n",
            " 6/13 https://www.ptt.cc/bbs/movie/M.1749786821.A.AB5.html [新聞] 《獵捕咕嚕》精靈王子需靠AI回春身輕如燕\n",
            " 6/13 https://www.ptt.cc/bbs/movie/M.1749790260.A.F43.html [情報] 真人版電影《秒速 5 公分》釋出特報影片 \n",
            " 6/13 https://www.ptt.cc/bbs/movie/M.1749796680.A.C3A.html [超大負雷] 小子難纏-空手道傳奇就是部大鬧劇！\n",
            " 6/13 https://www.ptt.cc/bbs/movie/M.1749799072.A.FF0.html [微雷] 拿坡里之戀\n",
            " 6/12 https://www.ptt.cc/bbs/movie/M.1749658229.A.30F.html [討論] 《超人》終極預告\n",
            " 6/12 https://www.ptt.cc/bbs/movie/M.1749661124.A.B9A.html [請益] 雷霆特攻隊某角色\n",
            " 6/12 https://www.ptt.cc/bbs/movie/M.1749661896.A.234.html [無雷] 激推！馴龍高手4DX3D\n",
            " 6/12 https://www.ptt.cc/bbs/movie/M.1749661921.A.9BD.html [討論] 雷霆特攻隊:模仿大師怎麼不找找自己問題?\n",
            " 6/12 https://www.ptt.cc/bbs/movie/M.1749663223.A.E8A.html Re: [討論] 台灣為什麼這麼愛用『鬼』來拍喜劇片？\n",
            " 6/12 https://www.ptt.cc/bbs/movie/M.1749684020.A.0E3.html [新聞] 柔伊沙達娜說她的小金人是性別流動的\n",
            " 6/12 https://www.ptt.cc/bbs/movie/M.1749685293.A.001.html [好微雷] 在熙的男，朋友 觀後感\n",
            " 6/12 https://www.ptt.cc/bbs/movie/M.1749688074.A.B47.html [新聞] 迪士尼、環球影業對AI公司提告\n",
            " 6/12 https://www.ptt.cc/bbs/movie/M.1749689121.A.2F8.html [討論] 王晶重拍《四大探長》被酸炒冷飯\n",
            " 6/12 https://www.ptt.cc/bbs/movie/M.1749697833.A.07A.html [新聞] 黃秋生新電影《不赦之罪》小成本奇蹟！　\n",
            " 6/12 https://www.ptt.cc/bbs/movie/M.1749700539.A.333.html [新聞] 《國有器官》導演：用鏡頭揭開活摘黑幕\n",
            " 6/12 https://www.ptt.cc/bbs/movie/M.1749704953.A.BD2.html [討論] 《F1電影》觸覺回饋預告\n",
            " 6/12 https://www.ptt.cc/bbs/movie/M.1749716201.A.58C.html [新聞]《看不見的國家》將上映 導演哽咽喊話台灣\n",
            " 6/12  (本文已被刪除) [bleak777]\n",
            " 6/12 https://www.ptt.cc/bbs/movie/M.1749717858.A.577.html [普雷]《貪金無厭：古董富商的神秘寶藏》\n",
            " 6/12 https://www.ptt.cc/bbs/movie/M.1749718994.A.1CA.html [新聞] 布萊德彼特頂小平頭走《F1電影》紅毯\n",
            " 6/12 https://www.ptt.cc/bbs/movie/M.1749719699.A.255.html [新聞] 新《神力女超人》劇本創作中 與前作無關聯\n",
            " 6/12 https://www.ptt.cc/bbs/movie/M.1749723784.A.66D.html [超級好雷] 2025馴龍高手3D 真人版\n",
            " 6/12  (本文已被刪除) [aqswdefrgt]\n",
            " 6/12 https://www.ptt.cc/bbs/movie/M.1749737208.A.F46.html [新聞] 瑞貝爾威爾森變身<超硬伴娘>拍到爆血送醫\n",
            " 6/11 https://www.ptt.cc/bbs/movie/M.1749604706.A.A28.html Re: [討論] 為什麼香港拍不出搞笑片了?\n",
            " 6/11 https://www.ptt.cc/bbs/movie/M.1749605482.A.3A1.html [請益] 串流沒有的電影\n",
            " 6/11 https://www.ptt.cc/bbs/movie/M.1749610414.A.0A3.html [問片] 已問到 港片 滿漢全席(金玉滿堂)\n",
            " 6/11 https://www.ptt.cc/bbs/movie/M.1749613329.A.F7E.html [討論] DC正在製作新的神力女超人電影\n",
            " 6/11 https://www.ptt.cc/bbs/movie/M.1749615111.A.027.html [討論] JohnWick難怪是傳奇（有雷）\n",
            " 6/11 https://www.ptt.cc/bbs/movie/M.1749616713.A.E34.html [問片] 日本片 描述父愛與親情的片子\n",
            " 6/11 https://www.ptt.cc/bbs/movie/M.1749625147.A.D17.html [好雷] 蝸牛少女回憶錄\n",
            " 6/11 https://www.ptt.cc/bbs/movie/M.1749628137.A.71B.html [前半無雷+後半好雷] 不可能的任務：最終清算\n",
            " 6/11 https://www.ptt.cc/bbs/movie/M.1749628774.A.F51.html [討論] 台灣為什麼這麼愛用『鬼』來拍喜劇片？\n",
            " 6/11 https://www.ptt.cc/bbs/movie/M.1749629198.A.369.html [討論] 2010年代的迪士尼動畫電影怎麼那麼強……\n",
            " 6/11 https://www.ptt.cc/bbs/movie/M.1749636465.A.FD8.html [好雷] 花束般的戀愛\n",
            " 6/11 https://www.ptt.cc/bbs/movie/M.1749637290.A.F97.html Re: [LIVE] HBO 21:00 得布拉肯寧 (The Blackening)\n",
            " 6/11 https://www.ptt.cc/bbs/movie/M.1749645717.A.C14.html [好雷] 馴龍高手 2025\n",
            " 6/11  (本文已被刪除) [XDGEE]\n",
            " 6/11 https://www.ptt.cc/bbs/movie/M.1749646976.A.1D0.html [新聞]詹姆士岡恩：重啟《神力女超人》！告別蓋\n",
            " 6/11 https://www.ptt.cc/bbs/movie/M.1749647197.A.5FF.html [新聞]史嘉蕾：「黑寡婦」發揮空間受限！只是劇\n",
            " 6/11 https://www.ptt.cc/bbs/movie/M.1749647566.A.BB8.html [請益] 不可能的任務8  水壓??\n",
            " 6/11 https://www.ptt.cc/bbs/movie/M.1749652980.A.4F0.html [好雷] 捍衛任務-復仇芭蕾，新一代女殺神！\n",
            " 6/11 https://www.ptt.cc/bbs/movie/M.1749654992.A.CCF.html [負雷] 馴龍高手\n",
            " 6/11 https://www.ptt.cc/bbs/movie/M.1749656187.A.943.html [討論] 《愛丁頓》爛番茄67%負面猜測\n"
          ]
        }
      ]
    },
    {
      "cell_type": "markdown",
      "source": [
        "## 美食版5篇"
      ],
      "metadata": {
        "id": "xyzAp4qOn0ub"
      }
    },
    {
      "cell_type": "code",
      "source": [
        "def get_articles(url):\n",
        "  response = requests.get(url)\n",
        "  soup = BeautifulSoup(response.text, \"lxml\")\n",
        "  for atcl in soup.find_all(\"div\", class_=\"r-ent\"):\n",
        "    if atcl.find(\"div\", class_=\"title\").a:\n",
        "      ttle = atcl.find(\"div\", class_=\"title\").a.text\n",
        "      href = \"http://www.ptt.cc\" + atcl.find(\"div\", class_=\"title\").a.get(\"href\")\n",
        "    else:\n",
        "      ttle = atcl.find(\"div\", class_=\"title\").text.strip()\n",
        "      href = \"\"\n",
        "    date = atcl.find(\"div\", class_=\"date\").text\n",
        "    print(date, href, ttle)\n",
        "  url = \"https://www.ptt.cc\" + soup.find_all(\"a\", class_=\"btn wide\")[1].get(\"href\")\n",
        "  return url\n",
        "\n",
        "url = \"https://www.ptt.cc/bbs/Food/index.html\"\n",
        "for i in range(5):\n",
        "  url = get_articles(url)"
      ],
      "metadata": {
        "colab": {
          "base_uri": "https://localhost:8080/"
        },
        "id": "nblYZpzZn0dq",
        "outputId": "afc0081d-adfa-4bbc-e756-ac9c831d2954"
      },
      "execution_count": 6,
      "outputs": [
        {
          "output_type": "stream",
          "name": "stdout",
          "text": [
            " 6/11 http://www.ptt.cc/bbs/Food/M.1749622491.A.0CD.html [食記] 台北大安 饌味香鍋貼麵食館 好吃實惠\n",
            " 6/11 http://www.ptt.cc/bbs/Food/M.1749627364.A.6C0.html [食記] 台北大同 迪化街 dixielane 迪士巷咖啡\n",
            " 6/11 http://www.ptt.cc/bbs/Food/M.1749627761.A.E78.html [食記] 台北萬華 金咕韓式原塊烤肉\n",
            " 6/11 http://www.ptt.cc/bbs/Food/M.1749627913.A.FDF.html [食記] 台南中西區 李媽媽民族鍋燒老店\n",
            " 6/11 http://www.ptt.cc/bbs/Food/M.1749643664.A.163.html [食記] 新北 板橋 蚓珈琲 藏身公寓二樓復古氛圍\n",
            " 6/11 http://www.ptt.cc/bbs/Food/M.1749651896.A.0E5.html [食記] 北京 北平三兄弟涮肉\n",
            " 6/12 http://www.ptt.cc/bbs/Food/M.1749659807.A.CBA.html [食記] 新北三重 永騰熟成牛排館.鐵板燒Teppanya\n",
            " 6/12 http://www.ptt.cc/bbs/Food/M.1749707412.A.1FD.html [食記] 桃園 喵日子café 貓咪咖啡廳 網美咖啡廳\n",
            " 6/12 http://www.ptt.cc/bbs/Food/M.1749719150.A.4E8.html [食記] 全聯WE SWEET 甜點心得記錄 \n",
            " 6/12 http://www.ptt.cc/bbs/Food/M.1749736872.A.451.html Fw: [食記] 新竹三角公園手推攤車 高麗菜飯,芋頭粥\n",
            " 6/12 http://www.ptt.cc/bbs/Food/M.1749738069.A.C32.html [食記] 台北大直 La Vie by Thomas Bühner\n",
            " 6/12 http://www.ptt.cc/bbs/Food/M.1749738527.A.FE8.html [食記] 桃園平鎮區。龍福 腿庫飯/滑肉麵\n",
            " 6/13 http://www.ptt.cc/bbs/Food/M.1749772408.A.EA7.html [食記] 桃園中壢-客家文昌雞-阿莫中壢創始店\n",
            " 6/13 http://www.ptt.cc/bbs/Food/M.1749779196.A.A35.html [廣宣] 台北 500盤名店宜慶生約會-L'AGE熟成餐廳\n",
            " 6/13 http://www.ptt.cc/bbs/Food/M.1749803492.A.957.html Fw: [食記] 北海道 成吉思汗烤肉MASAJIN札幌薄野本店\n",
            " 6/13 http://www.ptt.cc/bbs/Food/M.1749824762.A.D0F.html [食記] 美國 Sausalito 必吃美食 fish.\n",
            " 6/14 http://www.ptt.cc/bbs/Food/M.1749837533.A.F5E.html [食記] 嘉義 西區 西市鱔魚麵\n",
            " 6/14 http://www.ptt.cc/bbs/Food/M.1749859808.A.9E4.html [食記] 台中西區美術館旁 Bagel&Bagels 貝與果\n",
            " 6/14 http://www.ptt.cc/bbs/Food/M.1749887569.A.717.html [食記] 桃園。慧光素食店\n",
            " 6/14 http://www.ptt.cc/bbs/Food/M.1749893959.A.BC6.html [食記] 台中-暮藏和牛鍋物~專人服務\n",
            "12/16 http://www.ptt.cc/bbs/Food/M.1355673582.A.5F7.html [公告] Food板 板規 V3.91\n",
            " 9/28 http://www.ptt.cc/bbs/Food/M.1190944426.A.E6C.html [公告] 發文請在標題加上地區及提供地址電話。^^\n",
            "10/01 http://www.ptt.cc/bbs/Food/M.1128132666.A.0FD.html [公告] 文章被刪除者請洽精華區的資源回收桶\n",
            " 6/04 http://www.ptt.cc/bbs/Food/M.1496532469.A.C36.html [公告] 新增板規22：發文禁附延伸閱讀連結\n",
            " 6/09 http://www.ptt.cc/bbs/Food/M.1749399228.A.1C9.html [食記] 桃園 300° STEAK 南崁店 桃園到底多愛夜市牛排\n",
            " 6/09 http://www.ptt.cc/bbs/Food/M.1749464687.A.DD5.html [食記] 台中清新溫泉飯店 無菜單日本料理 鮨真\n",
            " 6/09 http://www.ptt.cc/bbs/Food/M.1749468581.A.1E9.html [食記] 台中 羽悦燒肉\n",
            " 6/09 http://www.ptt.cc/bbs/Food/M.1749468723.A.B96.html [食記] 嘉義 西區 京製茶 Kyo Cha\n",
            " 6/09 http://www.ptt.cc/bbs/Food/M.1749474770.A.6C1.html [食記] 高雄 A-Grill Steak House 乾式熟成牛排\n",
            " 6/09 http://www.ptt.cc/bbs/Food/M.1749478510.A.7A7.html [食記] 羅東 涮樂和牛鍋物\n",
            " 6/09 http://www.ptt.cc/bbs/Food/M.1749478715.A.591.html [食記] 台北 Yoru-よる + 寂川Jyakugawa\n",
            " 6/10 http://www.ptt.cc/bbs/Food/M.1749539520.A.25B.html [食記] 台南善化阿牛仔牛肉湯 滷肉飯吃到飽\n",
            " 6/10 http://www.ptt.cc/bbs/Food/M.1749543407.A.C10.html [食記] 西門船麵  微妙的有特色\n",
            " 6/10 http://www.ptt.cc/bbs/Food/M.1749545749.A.0E5.html [食記] 台中西區 荳牛西班牙料理 多年後二訪\n",
            " 6/10 http://www.ptt.cc/bbs/Food/M.1749546393.A.27B.html [食記] 台北大安區 樂子瑞安店\n",
            " 6/10 http://www.ptt.cc/bbs/Food/M.1749556952.A.84E.html [轉讓] 饗饗 微風店(6/12)\n",
            " 6/10 http://www.ptt.cc/bbs/Food/M.1749559110.A.775.html [食記] 新北 中和區｜酒聚居酒屋\n",
            " 6/10 http://www.ptt.cc/bbs/Food/M.1749563373.A.A86.html [食記] 香港 好酒好蔡\n",
            " 6/10 http://www.ptt.cc/bbs/Food/M.1749565423.A.334.html [食記] 桃園中壢區。欣園餐館\n",
            " 6/10 http://www.ptt.cc/bbs/Food/M.1749565859.A.81A.html [食記] 藏壽司 頭份店\n",
            " 6/11 http://www.ptt.cc/bbs/Food/M.1749571332.A.3EC.html [食記] 台北 勞瑞斯牛肋排 滿滿儀式感的慶生餐\n",
            " 6/11 http://www.ptt.cc/bbs/Food/M.1749571848.A.A8F.html [食記] 日本名古屋—大須つぼ焼き芋 氏田屋｜紅薯直球決勝負 陶罐\n",
            " 6/11 http://www.ptt.cc/bbs/Food/M.1749577958.A.143.html [食記] 嘉義 東區 可口火雞肉飯\n",
            " 6/11 http://www.ptt.cc/bbs/Food/M.1749578998.A.42B.html [食記] 嘉義 西區 阿婆炸麻糬\n",
            " 6/05 http://www.ptt.cc/bbs/Food/M.1749056417.A.21C.html [食記] 新北金山 金包里農舍莊園~歐式風車莊園\n",
            " 6/05 http://www.ptt.cc/bbs/Food/M.1749088077.A.028.html [廣宣] 台北 甩鍋雞韓式炒雞吃到飽還有銅盤烤肉\n",
            " 6/05 http://www.ptt.cc/bbs/Food/M.1749092799.A.48E.html [食記] 桃園 烤馬鈴薯 創意烤馬鈴薯好棒\n",
            " 6/05 http://www.ptt.cc/bbs/Food/M.1749121705.A.392.html [食記] 雲林 土庫 金茂利鐘錶咖啡\n",
            " 6/05 http://www.ptt.cc/bbs/Food/M.1749130384.A.BAF.html [食記] 桃園中壢區。文化二路無名越南法國麵包\n",
            " 6/05 http://www.ptt.cc/bbs/Food/M.1749133559.A.531.html [食記] 台北 老弄堂(小趙私廚新址)\n",
            " 6/06 http://www.ptt.cc/bbs/Food/M.1749142447.A.8E1.html [食記] 台北松山 The Antipodean 樂艾咖啡 富錦店 澳洲咖啡早\n",
            " 6/06 http://www.ptt.cc/bbs/Food/M.1749173149.A.F5A.html [轉讓] 饗 A JOY 6/27 晚餐 2人以上\n",
            " 6/06 http://www.ptt.cc/bbs/Food/M.1749211079.A.9B3.html [食記] 台中 豐原區｜享千葉火鍋 豐原店\n",
            " 6/06 http://www.ptt.cc/bbs/Food/M.1749220703.A.0F4.html [食記] 台北 Parko Parco牛肚包 ~餐酒館新址\n",
            " 6/06 http://www.ptt.cc/bbs/Food/M.1749221193.A.48C.html [轉讓] 6/7 板橋大遠百初魚鮨2位19:40\n",
            " 6/06 http://www.ptt.cc/bbs/Food/M.1749221665.A.5AE.html [食記] 德國柏林 Curry 36、Curry Mitte咖哩香腸\n",
            " 6/06 http://www.ptt.cc/bbs/Food/M.1749224098.A.34A.html [公告] 水桶－Ornette\n",
            " 6/07 http://www.ptt.cc/bbs/Food/M.1749255468.A.E59.html [食記] 台北。微風信義47F-Sea to sky 牛排海鮮\n",
            " 6/07 http://www.ptt.cc/bbs/Food/M.1749279489.A.900.html [食記] 花蓮 光輝老宅 義大利麵、燉飯都好吃\n",
            " 6/07 http://www.ptt.cc/bbs/Food/M.1749289785.A.894.html [食記] 新北蘆洲 毅然蕨然咖啡廳  有店貓\n",
            " 6/07 http://www.ptt.cc/bbs/Food/M.1749298945.A.C03.html [食記] 桃園中壢區。食厭世\n",
            " 6/07 http://www.ptt.cc/bbs/Food/M.1749310022.A.83F.html [食記] 新北 孫東寶台式牛排教父Plus板橋國慶店\n",
            " 6/08 http://www.ptt.cc/bbs/Food/M.1749345003.A.B87.html Fw: [食記] 澳門自助山平日中餐\n",
            " 6/08 http://www.ptt.cc/bbs/Food/M.1749380561.A.231.html [食記] 台北文山 貓空龍門客棧\n",
            " 6/02 http://www.ptt.cc/bbs/Food/M.1748852678.A.A62.html [心得] 夏花餐室Summer Flowers Dining Room\n",
            " 6/02 http://www.ptt.cc/bbs/Food/M.1748862186.A.5D7.html [食記] 山形米澤 米澤牛專門店 さかの 和牛燒肉\n",
            " 6/02 http://www.ptt.cc/bbs/Food/M.1748864381.A.F85.html [食記] 新北新店—養心沙龍｜時髦蔬食藝文沙龍 中西合併無國界料理\n",
            " 6/02 http://www.ptt.cc/bbs/Food/M.1748868600.A.228.html [食記] 台北中山 胖老闆誠意肉粥 宵夜場的好選擇\n",
            " 6/02 http://www.ptt.cc/bbs/Food/M.1748872531.A.7A9.html [食記] 北京 尹三豆汁、黑窯廠糖油餅\n",
            " 6/03 http://www.ptt.cc/bbs/Food/M.1748882217.A.609.html [食記] 10間大阪美食：必比登炸豬排、中崎町咖啡\n",
            " 6/03 http://www.ptt.cc/bbs/Food/M.1748887098.A.89C.html [食記] 瑞典 斯德哥爾摩 Meatballs for the People\n",
            " 6/03 http://www.ptt.cc/bbs/Food/M.1748916846.A.6DE.html [廣宣] 新竹 超澎湃老饕級海陸雙享-玖享聚鍋物\n",
            " 6/03 http://www.ptt.cc/bbs/Food/M.1748932631.A.402.html [食記] 桃園 大園 1996 BURGER\n",
            " 6/03 http://www.ptt.cc/bbs/Food/M.1748954845.A.BC5.html [食記] 桃園 Roll Cafe 捲日子 捷克煙囪捲甜點\n",
            " 6/03 http://www.ptt.cc/bbs/Food/M.1748955636.A.30E.html [食記] 美國 長灘黎巴嫩地中海料理Open Sesame\n",
            " 6/03 http://www.ptt.cc/bbs/Food/M.1748959529.A.186.html [食記] 桃園大溪區。游記百年油飯\n",
            " 6/03 http://www.ptt.cc/bbs/Food/M.1748960111.A.DA5.html [食記] 海羊 三種湯頭羊肉麵 煎餃也是好對味\n",
            " 6/04 http://www.ptt.cc/bbs/Food/M.1748970296.A.F03.html [食記] 新北三重 光興腿庫 排隊人氣名店\n",
            " 6/04 http://www.ptt.cc/bbs/Food/M.1748995048.A.EFB.html [食記] 北市北投-陽明山竹子湖土雞城-吉園葡\n",
            " 6/04 http://www.ptt.cc/bbs/Food/M.1749025380.A.DE2.html [食記] 新竹 東區 斜角古早味綿綿冰\n",
            " 6/04 http://www.ptt.cc/bbs/Food/M.1749026710.A.1AE.html Fw: [食記] 京都 Grill生研会館　洋食堂鄰近下鴨神社\n",
            " 6/04 http://www.ptt.cc/bbs/Food/M.1749034648.A.3CB.html [轉讓] 旭集 信義店 6/8 14:30\n",
            " 6/04 http://www.ptt.cc/bbs/Food/M.1749046291.A.DE1.html [食記] 香港 強記美食+時代豆業\n",
            " 6/04 http://www.ptt.cc/bbs/Food/M.1749049417.A.200.html [食記] 宜蘭員山 樂多廚房 寵物友善餐廳\n",
            " 5/29 http://www.ptt.cc/bbs/Food/M.1748494821.A.60F.html Fw: [食記] [新竹．中央市場] 小炫清燉牛肉麵\n",
            " 5/29 http://www.ptt.cc/bbs/Food/M.1748505890.A.765.html [食記] 宜蘭壯圍 芒草café寵物友善餐廳 \n",
            " 5/29 http://www.ptt.cc/bbs/Food/M.1748527990.A.47B.html [食記] 桃園。來呷BRUNCH\n",
            " 5/30 http://www.ptt.cc/bbs/Food/M.1748535453.A.D88.html [食記] 宜蘭頭城 紅螃蟹海鮮餐廳~超新鮮海鮮\n",
            " 5/30 http://www.ptt.cc/bbs/Food/M.1748594163.A.D41.html Fw: [食記] 札幌 春美可 燒肉 赤身特色 大推薦\n",
            " 5/30 http://www.ptt.cc/bbs/Food/M.1748594180.A.340.html Fw: [食記] 稚內 Pub服部 味美價優 推薦\n",
            " 5/30 http://www.ptt.cc/bbs/Food/M.1748607806.A.A1A.html [食記] 台北 中山區｜正老林羊肉爐 錦州店\n",
            " 5/30 http://www.ptt.cc/bbs/Food/M.1748617401.A.C8D.html [食記] 高雄下茄萣成鵝肉 – 滑嫩肉質與強大米血\n",
            " 5/31 http://www.ptt.cc/bbs/Food/M.1748632094.A.5E9.html [轉讓] 饗饗微風店 6/2 11:30兩位\n",
            " 5/31 http://www.ptt.cc/bbs/Food/M.1748665928.A.714.html [食記] 美國 長灘海鮮餐廳Parkers’ Lighthouse\n",
            " 5/31 http://www.ptt.cc/bbs/Food/M.1748699309.A.331.html [食記] 基隆廟口夜市羊妹妹–清甜羊肉湯與羊魯飯\n",
            " 5/31 http://www.ptt.cc/bbs/Food/M.1748699635.A.B04.html [食記] 桃園。合順青草茶\n",
            " 5/31 http://www.ptt.cc/bbs/Food/M.1748705367.A.BB0.html [食記] 桃園 甩鍋雞韓式炒雞吃到飽桃園ATT店\n",
            " 6/01 http://www.ptt.cc/bbs/Food/M.1748739452.A.D66.html [食記] 韓國首爾 朝鮮火爐 老字號傳統燒肉名店\n",
            " 6/01 http://www.ptt.cc/bbs/Food/M.1748744494.A.282.html [食記] 台北麻辣火鍋-李白白鴛鴦麻辣鍋 \n",
            " 6/01 http://www.ptt.cc/bbs/Food/M.1748746978.A.21F.html [食記] 台北市 大安區 信義安和 芙蓉園中餐廳\n",
            " 6/01 http://www.ptt.cc/bbs/Food/M.1748755983.A.882.html [食記] 台北信義 瑋恩紐約美式龍蝦牛排餐廳\n",
            " 6/01 http://www.ptt.cc/bbs/Food/M.1748786500.A.A5E.html [食記] 台北 心潮飯店：不按理出牌卻又合情合理\n",
            " 6/01 http://www.ptt.cc/bbs/Food/M.1748788722.A.481.html [食記] 新北蘆洲 Meet Italy 焗烤 燉飯 義大利麵\n",
            " 6/01 http://www.ptt.cc/bbs/Food/M.1748790891.A.471.html [食記] 台北中正 好吃炸雞 低分好吃炸雞店\n"
          ]
        }
      ]
    },
    {
      "cell_type": "markdown",
      "source": [
        "# 八卦版5篇"
      ],
      "metadata": {
        "id": "62RMbC2drz1I"
      }
    },
    {
      "cell_type": "code",
      "source": [
        "def get_articles(url):\n",
        "  response = requests.get(url, cookies=cookies)\n",
        "  soup = BeautifulSoup(response.text, \"lxml\")\n",
        "  for atcl in soup.find_all(\"div\", class_=\"r-ent\"):\n",
        "    if atcl.find(\"div\", class_=\"title\").a:\n",
        "      ttle = atcl.find(\"div\", class_=\"title\").a.text\n",
        "      href = \"https://www.ptt.cc\" + atcl.find(\"div\", class_=\"title\").a.get(\"href\")\n",
        "    else:\n",
        "      ttle = atcl.find(\"div\", class_=\"title\").text.strip()\n",
        "      href = \"\"\n",
        "    date = atcl.find(\"div\", class_=\"date\").text\n",
        "    print(date, href, ttle)\n",
        "  url = \"https://www.ptt.cc\" + soup.find_all(\"a\", class_=\"btn wide\")[1].get(\"href\")\n",
        "  return url\n",
        "\n",
        "url = \"https://www.ptt.cc/bbs/Gossiping/index.html\"\n",
        "cookies = {\"over18\": \"1\"}\n",
        "for i in range(5):\n",
        "  url = get_articles(url)\n"
      ],
      "metadata": {
        "id": "rib_Ys8ZrxJH",
        "colab": {
          "base_uri": "https://localhost:8080/"
        },
        "outputId": "32151429-6d02-40f3-caa0-1c71431f10cb"
      },
      "execution_count": 7,
      "outputs": [
        {
          "output_type": "stream",
          "name": "stdout",
          "text": [
            " 6/14 https://www.ptt.cc/bbs/Gossiping/M.1749902169.A.9FC.html Re: [問卦] 心情不好時是不是看館長直播很適合\n",
            " 6/14 https://www.ptt.cc/bbs/Gossiping/M.1749902189.A.85E.html [問卦] 館長的腋下怎麼沒有刺青\n",
            " 6/14 https://www.ptt.cc/bbs/Gossiping/M.1749902191.A.2A6.html [問卦] 多慧姐姐結婚了耶\n",
            " 6/14 https://www.ptt.cc/bbs/Gossiping/M.1749902263.A.659.html [問卦] 為什麼泰國跟日本物價沒怎麼漲，台灣卻漲\n",
            " 6/14 https://www.ptt.cc/bbs/Gossiping/M.1749902307.A.A4E.html [問卦] 台灣人這樣算不算古典制約？\n",
            " 6/14 https://www.ptt.cc/bbs/Gossiping/M.1749902413.A.D10.html Re: [問卦] 為何不補發相對論諾貝爾獎???\n",
            " 6/14 https://www.ptt.cc/bbs/Gossiping/M.1749902420.A.C12.html Re: [問卦] Threads熱議：台灣無恥物價\n",
            " 1/21 https://www.ptt.cc/bbs/Gossiping/M.1737398137.A.644.html [公告] 八卦板板規(2025.01.21)\n",
            " 5/07 https://www.ptt.cc/bbs/Gossiping/M.1746611476.A.966.html [公告] 群組廢棄小組長判決併口頭警告 水桶\n",
            " 5/21 https://www.ptt.cc/bbs/Gossiping/M.1747812037.A.195.html [爆卦] 三峽車禍確定要上街抗議了！\n",
            " 5/26 https://www.ptt.cc/bbs/Gossiping/M.1748234431.A.B64.html [公告] 【八卦文學獎】一篇廢文震撼整個評審團\n",
            " 6/14 https://www.ptt.cc/bbs/Gossiping/M.1749901187.A.9D7.html [問卦] 如何偷約小姨子\n",
            " 6/14 https://www.ptt.cc/bbs/Gossiping/M.1749901235.A.7DF.html [問卦] 四十幾歲沒錢有行情嗎？\n",
            " 6/14 https://www.ptt.cc/bbs/Gossiping/M.1749901291.A.ADC.html [問卦] 竹鼠在對岸也太紅了吧\n",
            " 6/14 https://www.ptt.cc/bbs/Gossiping/M.1749901421.A.35D.html Re: [問卦] 一人講一個跟大陸統一的壞處？\n",
            " 6/14 https://www.ptt.cc/bbs/Gossiping/M.1749901498.A.EEC.html [問卦] 三國志12跟8R 哪款比較好玩??\n",
            " 6/14 https://www.ptt.cc/bbs/Gossiping/M.1749901500.A.160.html [問卦] 國產品牌手機推薦哪支？\n",
            " 6/14 https://www.ptt.cc/bbs/Gossiping/M.1749901540.A.5C2.html [問卦] 酷的影片怎麼都沒有法國黑人?\n",
            " 6/14 https://www.ptt.cc/bbs/Gossiping/M.1749901762.A.D7B.html [問卦] 支那人其實也挺可憐的\n",
            " 6/14 https://www.ptt.cc/bbs/Gossiping/M.1749901813.A.CD6.html Re: [問卦] 三國志12跟8R 哪款比較好玩??\n",
            " 6/14 https://www.ptt.cc/bbs/Gossiping/M.1749901861.A.D58.html [新聞] 早料到以色列會動手！伊朗高層重大誤判　\n",
            " 6/14 https://www.ptt.cc/bbs/Gossiping/M.1749901878.A.72C.html [問卦] 館長是不是戳破某些人玻璃心了？反應超大\n",
            " 6/14 https://www.ptt.cc/bbs/Gossiping/M.1749901908.A.C69.html [新聞] 林佳龍高歌賀菲律賓國慶宣布「延長對菲免\n",
            " 6/14 https://www.ptt.cc/bbs/Gossiping/M.1749901942.A.BC3.html [問卦] 男生想被全校男生調教嗎〓〓？\n",
            " 6/14 https://www.ptt.cc/bbs/Gossiping/M.1749901953.A.DEA.html Re: [問卦] 短裙妹走樓梯都不遮？\n",
            " 6/14 https://www.ptt.cc/bbs/Gossiping/M.1749901981.A.F1E.html [問卦] 打完日俄戰爭的日本為什麼要扶植政權\n",
            " 6/14 https://www.ptt.cc/bbs/Gossiping/M.1749902045.A.6AD.html [問卦] 按八卦邏輯，館長身旁的浙江人都台灣臨演\n",
            " 6/14 https://www.ptt.cc/bbs/Gossiping/M.1749902047.A.29C.html [問卦] 沒人發現汐止一坪要60萬整個細思極恐嗎！\n",
            " 6/14 https://www.ptt.cc/bbs/Gossiping/M.1749902059.A.0A0.html Re: [新聞] 陸委會：持中國邊境旅遊護照違法 台灣身分會被取消\n",
            " 6/14 https://www.ptt.cc/bbs/Gossiping/M.1749902084.A.448.html [新聞] 堅持不引退！90歲AV女優回憶出道 拒絕3年\n",
            " 6/14 https://www.ptt.cc/bbs/Gossiping/M.1749902123.A.0AF.html Re: [新聞] 史上最長會期！ 民眾黨團提案立法院二度延\n",
            " 6/14 https://www.ptt.cc/bbs/Gossiping/M.1749900266.A.8A9.html [問卦] 當初反對SMR的484反智？\n",
            " 6/14 https://www.ptt.cc/bbs/Gossiping/M.1749900271.A.53A.html [新聞] 真．野豬騎士！9歲男童馴豬當坐騎 飛奔上\n",
            " 6/14 https://www.ptt.cc/bbs/Gossiping/M.1749900366.A.D8E.html Re: [問卦] 沒人發現中國就是獨裁集權才發展神速嗎??\n",
            " 6/14 https://www.ptt.cc/bbs/Gossiping/M.1749900372.A.C4A.html [新聞] 台灣器官來源不足 每日平均3.3人等不到\n",
            " 6/14 https://www.ptt.cc/bbs/Gossiping/M.1749900432.A.E32.html Re: [問卦] 沒人發現台灣年輕人很難創業了？\n",
            " 6/14 https://www.ptt.cc/bbs/Gossiping/M.1749900569.A.463.html [問卦] 人現在在嘉義 有推薦好吃的嗎？\n",
            " 6/14 https://www.ptt.cc/bbs/Gossiping/M.1749900626.A.F2C.html [新聞] 靜候總統府通知「國安簡報主題」　黃國昌：希望賴清德放下政\n",
            " 6/14 https://www.ptt.cc/bbs/Gossiping/M.1749900684.A.A34.html [問卦] 伊拉克 約旦 看到飛彈頭上飛沒意見？\n",
            " 6/14 https://www.ptt.cc/bbs/Gossiping/M.1749900711.A.DF7.html [問卦] 短裙妹走樓梯都不遮？\n",
            " 6/14 https://www.ptt.cc/bbs/Gossiping/M.1749900750.A.0EE.html [問卦] 台灣人怎麼這麼愛喝手搖\n",
            " 6/14 https://www.ptt.cc/bbs/Gossiping/M.1749900813.A.FD1.html [問卦] 現在連漫畫都要分開賽道嗎？\n",
            " 6/14 https://www.ptt.cc/bbs/Gossiping/M.1749900849.A.811.html [問卦] 減肥針 牛奶針那個出事不是第一次？\n",
            " 6/14 https://www.ptt.cc/bbs/Gossiping/M.1749900903.A.070.html [公告] 超超超超級蠢 連這種事情都要管 水桶\n",
            " 6/14 https://www.ptt.cc/bbs/Gossiping/M.1749900914.A.94C.html [問卦] 為什麼體育老師要一直背鍋？\n",
            " 6/14 https://www.ptt.cc/bbs/Gossiping/M.1749900980.A.DC7.html [問卦] 有沒有做過愛很容易看出來嗎？\n",
            " 6/14 https://www.ptt.cc/bbs/Gossiping/M.1749901023.A.712.html [問卦] 33處男昨天看fc2的片子男生偷笑女生很\n",
            " 6/14 https://www.ptt.cc/bbs/Gossiping/M.1749901048.A.386.html Re: [問卦] 一聽到亞洲類獨裁想到誰？\n",
            " 6/14 https://www.ptt.cc/bbs/Gossiping/M.1749901048.A.2CB.html [新聞] 知道出大事？以國空襲前「五角大廈狂買披\n",
            " 6/14 https://www.ptt.cc/bbs/Gossiping/M.1749901050.A.FD5.html [新聞] 李珠珢被逆轉輸球「氣到摔毛巾」 網喊話\n",
            " 6/14 https://www.ptt.cc/bbs/Gossiping/M.1749901074.A.737.html [新聞] 博愛座糾紛！讓座後大媽還狂碎唸2分鐘\n",
            " 6/14 https://www.ptt.cc/bbs/Gossiping/M.1749899465.A.A03.html [問卦] 預言地震怎麼不會被抓起來關？\n",
            " 6/14 https://www.ptt.cc/bbs/Gossiping/M.1749899556.A.30F.html [問卦] 多元入學跟聯考到底哪個制度比較好？\n",
            " 6/14 https://www.ptt.cc/bbs/Gossiping/M.1749899576.A.D1A.html [問卦] NBA每年在捧的球隊都這麼誇張嗎？\n",
            " 6/14 https://www.ptt.cc/bbs/Gossiping/M.1749899588.A.953.html [新聞] 陸委會：持中國邊境旅遊護照違法 台灣身分會被取消\n",
            " 6/14 https://www.ptt.cc/bbs/Gossiping/M.1749899606.A.5D4.html [問卦] 護送錢斯，為什麼遺體是用寄的?\n",
            " 6/14 https://www.ptt.cc/bbs/Gossiping/M.1749899664.A.808.html [問卦] 該等iphone17還是直接買16\n",
            " 6/14 https://www.ptt.cc/bbs/Gossiping/M.1749899668.A.166.html [問卦] 蕭秉治有很紅嗎？\n",
            " 6/14 https://www.ptt.cc/bbs/Gossiping/M.1749899689.A.C4F.html [問卦] 〓.〓 黑貓晚上沒辦法對焦？！\n",
            " 6/14 https://www.ptt.cc/bbs/Gossiping/M.1749899706.A.4F4.html [問卦] 戰爭女生準備保險套 男生要準備什麼？\n",
            " 6/14 https://www.ptt.cc/bbs/Gossiping/M.1749899736.A.906.html [問卦] 八卦板存多少錢準備移民中國了？☺  ☺  \n",
            " 6/14 https://www.ptt.cc/bbs/Gossiping/M.1749899772.A.995.html Re: [新聞] 人事總處公布連假新規定 未來「只補假不\n",
            " 6/14 https://www.ptt.cc/bbs/Gossiping/M.1749899791.A.6F2.html [新聞] 美國務卿盧比歐下令 加快向以色列提供13\n",
            " 6/14 https://www.ptt.cc/bbs/Gossiping/M.1749899794.A.3C5.html [問卦] 北部人不流行跳河的卦\n",
            " 6/14 https://www.ptt.cc/bbs/Gossiping/M.1749899803.A.70E.html Re: [問卦] 大罷免成功可以避免戰爭是真的嗎\n",
            " 6/14  (本文已被刪除) [FL5566]\n",
            " 6/14 https://www.ptt.cc/bbs/Gossiping/M.1749899861.A.6BD.html [問卦] 館長得新的肺炎回來算生化武統嗎\n",
            " 6/14 https://www.ptt.cc/bbs/Gossiping/M.1749899914.A.B5E.html [問卦] 為什麼喜歡八卦別人的秘密\n",
            " 6/14 https://www.ptt.cc/bbs/Gossiping/M.1749900027.A.922.html [問卦] 40路怕熱肥宅買這有用嗎？\n",
            " 6/14 https://www.ptt.cc/bbs/Gossiping/M.1749900136.A.7D8.html Re: [新聞] 人事總處公布連假新規定 未來「只補\n",
            " 6/14 https://www.ptt.cc/bbs/Gossiping/M.1749900142.A.6AC.html [問卦] 港日台中韓劇\n",
            " 6/14 https://www.ptt.cc/bbs/Gossiping/M.1749898731.A.680.html Re: [新聞] 人事總處公布連假新規定 未來「只補假不\n",
            " 6/14 https://www.ptt.cc/bbs/Gossiping/M.1749898733.A.EED.html [問卦] 解放後台北哪條路可改為解放路or解放大道\n",
            " 6/14 https://www.ptt.cc/bbs/Gossiping/M.1749898772.A.5D1.html [新聞] 李珠珢女僕裝登大巨蛋！蹲地「雪乳溢出」\n",
            " 6/14 https://www.ptt.cc/bbs/Gossiping/M.1749898851.A.A47.html [新聞] 獨／實現與癌逝母約定 她吐血在北醫加護\n",
            " 6/14 https://www.ptt.cc/bbs/Gossiping/M.1749898862.A.7CA.html Re: [問卦] 大罷免成功可以避免戰爭是真的嗎\n",
            " 6/14 https://www.ptt.cc/bbs/Gossiping/M.1749898864.A.781.html [問卦] MIT台灣製造放在世界上是什麼等級？\n",
            " 6/14 https://www.ptt.cc/bbs/Gossiping/M.1749898866.A.B17.html [活動] mhliu8 八卦文學獎＿八卦戰神\n",
            " 6/14 https://www.ptt.cc/bbs/Gossiping/M.1749898890.A.1DE.html Re: [新聞] 沈伯洋被酸賺紅錢 他嗆藍白：民進黨立委\n",
            " 6/14 https://www.ptt.cc/bbs/Gossiping/M.1749899004.A.235.html Re: [問卦] 沒人發現台灣年輕人很難創業了？\n",
            " 6/14 https://www.ptt.cc/bbs/Gossiping/M.1749899020.A.96C.html [問卦] comebuy點什麼飲料才專業\n",
            " 6/14 https://www.ptt.cc/bbs/Gossiping/M.1749899022.A.9F8.html Re: [新聞] 花5分鐘偷走上億「18K金馬桶」分解變賣　\n",
            " 6/14 https://www.ptt.cc/bbs/Gossiping/M.1749899093.A.E94.html [協尋] 找十幾年前看過的校園推理網路小說\n",
            " 6/14 https://www.ptt.cc/bbs/Gossiping/M.1749899124.A.2E3.html [問卦] 沒人發現多數極權國家比較落後嗎\n",
            " 6/14 https://www.ptt.cc/bbs/Gossiping/M.1749899135.A.CA8.html [問卦] 館長來杭州怎沒順便參拜一下岳飛墓？\n",
            " 6/14 https://www.ptt.cc/bbs/Gossiping/M.1749899164.A.E8D.html [問卦] 沒人發現中國管得動14億人口很細思極恐！\n",
            " 6/14 https://www.ptt.cc/bbs/Gossiping/M.1749899247.A.962.html [新聞] 館長遊杭州遭鬧場！男舉五星旗大喊台獨狗\n",
            " 6/14 https://www.ptt.cc/bbs/Gossiping/M.1749899247.A.9AD.html [問卦] GOOGLE 的CEO印度人PXE\n",
            " 6/14 https://www.ptt.cc/bbs/Gossiping/M.1749899317.A.4F9.html [問卦] 男生太可愛會被男生喜歡嗎？\n",
            " 6/14 https://www.ptt.cc/bbs/Gossiping/M.1749899443.A.56B.html [問卦] 男生會想試試灌腸嗎〓〓？\n",
            " 6/14 https://www.ptt.cc/bbs/Gossiping/M.1749899459.A.0E9.html [問卦] 台女為什麼對大陸雞這麼好\n"
          ]
        }
      ]
    }
  ]
}