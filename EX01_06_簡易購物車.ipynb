{
  "cells": [
    {
      "cell_type": "markdown",
      "metadata": {
        "id": "view-in-github",
        "colab_type": "text"
      },
      "source": [
        "<a href=\"https://colab.research.google.com/github/elsonyeh/computer-programming-and-application/blob/main/EX01_06_%E7%B0%A1%E6%98%93%E8%B3%BC%E7%89%A9%E8%BB%8A.ipynb\" target=\"_parent\"><img src=\"https://colab.research.google.com/assets/colab-badge.svg\" alt=\"Open In Colab\"/></a>"
      ]
    },
    {
      "cell_type": "code",
      "execution_count": 8,
      "metadata": {
        "colab": {
          "base_uri": "https://localhost:8080/"
        },
        "id": "o56o1glNRbSs",
        "outputId": "cd6fdebc-4ea7-4a2a-8003-cb035c960e9c"
      },
      "outputs": [
        {
          "output_type": "stream",
          "name": "stdout",
          "text": [
            "商品欄:  apple/25, banana/12, cherry/30\n",
            "購物車:  \n",
            "功能列:  1.新增商品 2.移除商品 3.結帳 4.離開\n",
            "請輸入功能列對應的數字: 4\n",
            "bye\n"
          ]
        }
      ],
      "source": [
        "#修改版\n",
        "from IPython.display import clear_output\n",
        "import time\n",
        "shopping_cart = []\n",
        "products = {\"apple\": 25, \"banana\": 12, \"cherry\": 30}\n",
        "\n",
        "while True:\n",
        "  clear_output()\n",
        "  print(\"商品欄: \", \", \".join([f\"{product}/{price}\" for product, price in products.items()]))\n",
        "  print(\"購物車: \", \", \".join(shopping_cart))\n",
        "  print(\"功能列: \", \"1.新增商品 2.移除商品 3.結帳 4.離開\")\n",
        "\n",
        "  act = input(\"請輸入功能列對應的數字: \")\n",
        "  if act == \"1\":\n",
        "    new_item = input(\"請輸入要新增的商品: \")  #將功能與商品分開輸入\n",
        "    if new_item in products:\n",
        "      shopping_cart.append(new_item)\n",
        "    else:\n",
        "      print(\"商品不存在，請重新輸入\") #判斷是否輸入正確\n",
        "      time.sleep(2) #顯示兩秒後清除\n",
        "  elif act == \"2\":\n",
        "    remove_item = (input(\"請輸入要移除的商品: \"))\n",
        "    if remove_item in shopping_cart:\n",
        "      shopping_cart.remove(remove_item)\n",
        "    else:\n",
        "      print(\"商品不存在，請重新輸入\") #判斷是否輸入正確\n",
        "      time.sleep(2) #顯示兩秒後清除\n",
        "  elif act[0] == \"3\":\n",
        "    if not shopping_cart:\n",
        "      print(\"你的購物車是空的\") #判斷購物車是否為空\n",
        "      time.sleep(2) #顯示兩秒後清除\n",
        "    else:\n",
        "      total = 0\n",
        "      for item in shopping_cart:\n",
        "        total += products[item]\n",
        "      print(\"結帳金額: \", total)\n",
        "      break\n",
        "  elif act[0] == \"4\":\n",
        "    print(\"bye\")\n",
        "    break\n",
        "  else:\n",
        "    print(\"請輸入正確的數字\") #判斷指令是否輸入正確\n",
        "    time.sleep(2) #顯示兩秒後清除"
      ]
    }
  ],
  "metadata": {
    "colab": {
      "provenance": [],
      "authorship_tag": "ABX9TyMwd7IOnAbkZr1Ce7mjkfZi",
      "include_colab_link": true
    },
    "kernelspec": {
      "display_name": "Python 3",
      "name": "python3"
    },
    "language_info": {
      "name": "python"
    }
  },
  "nbformat": 4,
  "nbformat_minor": 0
}