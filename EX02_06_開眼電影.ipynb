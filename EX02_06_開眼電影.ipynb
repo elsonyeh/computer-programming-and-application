{
  "nbformat": 4,
  "nbformat_minor": 0,
  "metadata": {
    "colab": {
      "provenance": [],
      "authorship_tag": "ABX9TyNXEU3mH3FFplHHSnoRFtbX",
      "include_colab_link": true
    },
    "kernelspec": {
      "name": "python3",
      "display_name": "Python 3"
    },
    "language_info": {
      "name": "python"
    }
  },
  "cells": [
    {
      "cell_type": "markdown",
      "metadata": {
        "id": "view-in-github",
        "colab_type": "text"
      },
      "source": [
        "<a href=\"https://colab.research.google.com/github/elsonyeh/computer-programming-and-application/blob/main/EX02_06_%E9%96%8B%E7%9C%BC%E9%9B%BB%E5%BD%B1.ipynb\" target=\"_parent\"><img src=\"https://colab.research.google.com/assets/colab-badge.svg\" alt=\"Open In Colab\"/></a>"
      ]
    },
    {
      "cell_type": "code",
      "execution_count": 6,
      "metadata": {
        "colab": {
          "base_uri": "https://localhost:8080/"
        },
        "id": "cWU4jCM_VGM5",
        "outputId": "8d326e27-012c-4d3a-db7b-c53f37d34c00"
      },
      "outputs": [
        {
          "output_type": "execute_result",
          "data": {
            "text/plain": [
              "<title>開眼電影網首頁--近期上映--</title>"
            ]
          },
          "metadata": {},
          "execution_count": 6
        }
      ],
      "source": [
        "import requests\n",
        "from bs4 import BeautifulSoup\n",
        "\n",
        "url = 'https://www.atmovies.com.tw/movie/next/'\n",
        "html = requests.get(url)\n",
        "html.encoding = 'utf-8'\n",
        "soup = BeautifulSoup(html.text, 'lxml')\n",
        "soup.title"
      ]
    },
    {
      "cell_type": "code",
      "source": [
        "import os\n",
        "import csv\n",
        "\n",
        "if not os.path.exists('/content/movies3'):\n",
        "    os.mkdir('/content/movies3')\n",
        "\n",
        "movies = [ ['電影', '上映日期'] ]\n",
        "\n",
        "for mv in soup.find('ul', class_='filmListAllX').find_all('li'):\n",
        "    ttl = mv.img['alt']\n",
        "    src = mv.img['src'].strip()\n",
        "    dat = mv.find('div', class_ = 'runtime').text\n",
        "    dat = dat[5:15]\n",
        "    movies.append([ttl, dat])\n",
        "    print(ttl, dat, src)\n",
        "    response = requests.get(src)\n",
        "    with open(f'/content/movies3/{ttl}.jpg', 'wb') as f:\n",
        "        f.write(response.content)\n",
        "\n",
        "with open('/content/movies.csv', 'w', encoding = 'utf-8', newline = '') as f:\n",
        "    writer = csv.writer(f)\n",
        "    writer.writerows(movies)"
      ],
      "metadata": {
        "colab": {
          "base_uri": "https://localhost:8080/"
        },
        "id": "3ciS2p1pamts",
        "outputId": "71001e2e-215a-4ac6-974b-1d28b95cd744"
      },
      "execution_count": 17,
      "outputs": [
        {
          "output_type": "stream",
          "name": "stdout",
          "text": [
            "28年毀滅倒數 2025/06/18 http://www.atmovies.com.tw/photo101/fyen10548174/pl_fyen10548174_0004.jpg\n",
            "F1電影 2025/06/25 http://www.atmovies.com.tw/photo101/ffen16311594/pl_ffen16311594_0007.jpg\n",
            "名偵探柯南：獨眼的殘像 2025/06/25 http://www.atmovies.com.tw/photo101/fdjp35891502/pl_fdjp35891502_0002.jpg\n",
            "窒友梅根 2.0 2025/06/27 http://www.atmovies.com.tw/photo101/fmen26342662/pl_fmen26342662_0002.jpg\n",
            "侏羅紀世界：重生 2025/07/02 http://www.atmovies.com.tw/photo101/fjen31036941/pl_fjen31036941_0002.jpg\n",
            "超人 2025/07/09 http://www.atmovies.com.tw/photo101/fsen45950044/pl_fsen45950044_0003.jpg\n",
            "電影哆啦A夢：大雄的繪畫世界物語 2025/07/18 http://www.atmovies.com.tw/photo101/fdjp33512868/pl_fdjp33512868_0002.jpg\n",
            "驚奇4超人：第一步 2025/07/23 http://www.atmovies.com.tw/photo101/ffen10676052/pl_ffen10676052_0007.jpg\n",
            "壞蛋聯盟2 2025/08/01 http://www.atmovies.com.tw/photo101/fben30017619/pl_fben30017619_0002.jpg\n",
            "劇場版「鬼滅之刃」無限城篇 2025/08/08 http://www.atmovies.com.tw/photo101/fdjp32820897/pl_fdjp32820897_0002.jpg\n",
            "天作之合 2025/08/29 http://www.atmovies.com.tw/photo101/fmen30253473/pl_fmen30253473_0001.jpg\n",
            "劇場版『鏈鋸人 蕾潔篇』 2025/09/24 http://www.atmovies.com.tw/photo101/fcjp30472557/pl_fcjp30472557_0001.jpg\n",
            "一戰再戰 2025/09/25 http://www.atmovies.com.tw/photo101/foen30144839/pl_foen30144839_0002.jpg\n",
            "出神入化3 2025/11/14 http://www.atmovies.com.tw/photo101/fnen54712810/pl_fnen54712810_0001.jpg\n",
            "動物方城市2 2025/11/26 http://www.atmovies.com.tw/photo101/fzen31187839/pl_fzen31187839_0002.jpg\n",
            "阿凡達：火與灰燼 2025/12/18 http://www.atmovies.com.tw/photo101/faen71757678/pl_faen71757678_0001.jpg\n",
            "復仇者聯盟5 2026/05/01 http://www.atmovies.com.tw/photo101/faen21357150/pl_faen21357150_0001.jpg\n",
            "玩具總動員5 2026/06/19 http://www.atmovies.com.tw/photo101/ften29355505/pl_ften29355505_0001.jpg\n"
          ]
        }
      ]
    }
  ]
}