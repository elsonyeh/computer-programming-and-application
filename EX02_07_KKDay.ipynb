{
  "nbformat": 4,
  "nbformat_minor": 0,
  "metadata": {
    "colab": {
      "provenance": [],
      "authorship_tag": "ABX9TyMhPfVmNUWjxdSvSdhMtFmm",
      "include_colab_link": true
    },
    "kernelspec": {
      "name": "python3",
      "display_name": "Python 3"
    },
    "language_info": {
      "name": "python"
    }
  },
  "cells": [
    {
      "cell_type": "markdown",
      "metadata": {
        "id": "view-in-github",
        "colab_type": "text"
      },
      "source": [
        "<a href=\"https://colab.research.google.com/github/elsonyeh/computer-programming-and-application/blob/main/EX02_07_KKDay.ipynb\" target=\"_parent\"><img src=\"https://colab.research.google.com/assets/colab-badge.svg\" alt=\"Open In Colab\"/></a>"
      ]
    },
    {
      "cell_type": "markdown",
      "source": [
        "- https://www.kkday.com/zh-tw"
      ],
      "metadata": {
        "id": "ZpWXcG0Znujr"
      }
    },
    {
      "cell_type": "code",
      "execution_count": 1,
      "metadata": {
        "colab": {
          "base_uri": "https://localhost:8080/"
        },
        "id": "Jl3JbyIymXor",
        "outputId": "a89b82ea-02b0-4cb2-cd0c-e87d54bf0a8f"
      },
      "outputs": [
        {
          "output_type": "execute_result",
          "data": {
            "text/plain": [
              "<title>最熱門 東京 住宿 - 2025 更新 - KKday</title>"
            ]
          },
          "metadata": {},
          "execution_count": 1
        }
      ],
      "source": [
        "import requests\n",
        "from bs4 import BeautifulSoup\n",
        "url = 'https://www.kkday.com/zh-tw/category/jp-tokyo/accommodation'\n",
        "headers = {'user-agent': 'Mozilla/5.0 (Windows NT 10.0; Win64; x64) AppleWebKit/537.36 (KHTML, like Gecko) Chrome/129.0.0.0 Safari/537.36'}\n",
        "response = requests.get(url, headers=headers)\n",
        "soup = BeautifulSoup(response.text, 'lxml')\n",
        "soup.title"
      ]
    },
    {
      "cell_type": "code",
      "source": [
        "import requests\n",
        "url = 'https://www.kkday.com/zh-tw/category/ajax_get_top_products?productCategory=CATEGORY_078&destination=D-JP-3261'\n",
        "headers = {'user-agent': 'Mozilla/5.0 (Windows NT 10.0; Win64; x64) AppleWebKit/537.36 (KHTML, like Gecko) Chrome/129.0.0.0 Safari/537.36'}\n",
        "response = requests.get(url,headers  =headers)\n",
        "hotels = response.json()"
      ],
      "metadata": {
        "id": "Y9kfsSLznagK"
      },
      "execution_count": 7,
      "outputs": []
    },
    {
      "cell_type": "code",
      "source": [
        "hotels['data'][0]"
      ],
      "metadata": {
        "colab": {
          "base_uri": "https://localhost:8080/"
        },
        "id": "u285Z2aNnb0S",
        "outputId": "d6ecf684-d715-4610-a049-2d54ffb78058"
      },
      "execution_count": 11,
      "outputs": [
        {
          "output_type": "execute_result",
          "data": {
            "text/plain": [
              "{'prod_mid': 241920,\n",
              " 'prod_oid': 241920,\n",
              " 'name': '東京東方世紀21酒店',\n",
              " 'introduction': '搭乘巴士約30分鐘就能到達東京迪士尼度假區(R)! 從東西線 東陽町站 步行 (7分鐘)',\n",
              " 'rating_count': 0,\n",
              " 'rating_star': 0,\n",
              " 'show_order_count': '',\n",
              " 'earliest_sale_date': '20250614',\n",
              " 'sale_status': 1,\n",
              " 'purchase_type': None,\n",
              " 'purchase_date': None,\n",
              " 'is_tourism_product': True,\n",
              " 'readable_url': None,\n",
              " 'product_category': {'main': 'CATEGORY_078', 'sub': []},\n",
              " 'display_tags': ['2天前可免費取消', '即買即用', '立即確認'],\n",
              " 'img_url_list': ['https://image.kkday.com/image/get/w_600%2Cc_fit/s1.kkday.com/product_241920/20241003070001_e1uVR/png',\n",
              "  'https://image.kkday.com/image/get/w_600%2Cc_fit/s1.kkday.com/product_241920/20241003070001_FjiDU/png',\n",
              "  'https://image.kkday.com/image/get/w_600%2Cc_fit/s1.kkday.com/product_241920/20241003070001_S5yvV/png',\n",
              "  'https://image.kkday.com/image/get/w_600%2Cc_fit/s1.kkday.com/product_241920/20241003070001_wdyeR/png',\n",
              "  'https://image.kkday.com/image/get/w_600%2Cc_fit/s1.kkday.com/product_241920/20241003070001_uQkC9/png'],\n",
              " 'currency': 'TWD',\n",
              " 'official_price': 2340,\n",
              " 'max_price': 14350,\n",
              " 'min_price': 2340,\n",
              " 'discount': 0,\n",
              " 'is_display_price': False,\n",
              " 'destinations': [{'code': 'D-JP-7651', 'name': '東京迪士尼度假區'},\n",
              "  {'code': 'D-JP-3261', 'name': '東京'},\n",
              "  {'code': 'D-JP-3218', 'name': '關東'},\n",
              "  {'code': 'D-JP-112', 'name': '日本'}],\n",
              " 'is_marketplace': False,\n",
              " 'supplier_oid_list': [21011],\n",
              " 'supplier_name': None,\n",
              " 'supplier_logo': None,\n",
              " 'supplier_badge': 0,\n",
              " 'is_zero_price': False,\n",
              " 'is_kkday_best_route': False,\n",
              " 'prod_discount_type': None,\n",
              " 'instant_booking': True}"
            ]
          },
          "metadata": {},
          "execution_count": 11
        }
      ]
    },
    {
      "cell_type": "code",
      "source": [
        "from IPython.display import Image, display\n",
        "for hotel in hotels ['data']:\n",
        "  print (hotel['name'],hotel['rating_star'],hotel['official_price'])\n",
        "  print (hotel['introduction'])\n",
        "  display(Image(url = hotel['img_url_list'][0], width=300))\n",
        "  print ('-'*3)\n",
        "  print ()"
      ],
      "metadata": {
        "colab": {
          "base_uri": "https://localhost:8080/",
          "height": 1000
        },
        "id": "VWPAMeEcngDJ",
        "outputId": "c3abe22e-5320-45b6-c209-e98a2f2edce0"
      },
      "execution_count": 17,
      "outputs": [
        {
          "output_type": "stream",
          "name": "stdout",
          "text": [
            "東京東方世紀21酒店 0 2340\n",
            "搭乘巴士約30分鐘就能到達東京迪士尼度假區(R)! 從東西線 東陽町站 步行 (7分鐘)\n"
          ]
        },
        {
          "output_type": "display_data",
          "data": {
            "text/html": [
              "<img src=\"https://image.kkday.com/image/get/w_600%2Cc_fit/s1.kkday.com/product_241920/20241003070001_e1uVR/png\" width=\"300\"/>"
            ],
            "text/plain": [
              "<IPython.core.display.Image object>"
            ]
          },
          "metadata": {}
        },
        {
          "output_type": "stream",
          "name": "stdout",
          "text": [
            "---\n",
            "\n",
            "日暮里阿爾蒙特飯店 0 2263\n",
            "享受日暮里阿爾蒙特飯店的舒適住宿,便捷至東京主要景點,立即預訂,開啟您的東京之旅!\n"
          ]
        },
        {
          "output_type": "display_data",
          "data": {
            "text/html": [
              "<img src=\"https://image.kkday.com/image/get/w_600%2Cc_fit/s1.kkday.com/product_193898/20241029064831_EWA64/png\" width=\"300\"/>"
            ],
            "text/plain": [
              "<IPython.core.display.Image object>"
            ]
          },
          "metadata": {}
        },
        {
          "output_type": "stream",
          "name": "stdout",
          "text": [
            "---\n",
            "\n",
            "APA 飯店 - 東日本橋站前 5 1381\n",
            "東日本橋站前 APA 飯店提供現代舒適的住宿,輕鬆探索東京,立即預訂,享受便利生活!\n"
          ]
        },
        {
          "output_type": "display_data",
          "data": {
            "text/html": [
              "<img src=\"https://image.kkday.com/image/get/w_600%2Cc_fit/s1.kkday.com/product_191173/20241118091657_aBuYr/png\" width=\"300\"/>"
            ],
            "text/plain": [
              "<IPython.core.display.Image object>"
            ]
          },
          "metadata": {}
        },
        {
          "output_type": "stream",
          "name": "stdout",
          "text": [
            "---\n",
            "\n",
            "LYURO東京清澄-THE SHARE酒店 - 0 768\n",
            "遠離都心的喧囂,坐落在開闊的清澄白河的飯店 從半藏門線 水天宮前站 步行 (12分鐘)\n"
          ]
        },
        {
          "output_type": "display_data",
          "data": {
            "text/html": [
              "<img src=\"https://image.kkday.com/image/get/w_600%2Cc_fit/s1.kkday.com/product_193280/20241007144440_mAp9U/png\" width=\"300\"/>"
            ],
            "text/plain": [
              "<IPython.core.display.Image object>"
            ]
          },
          "metadata": {}
        },
        {
          "output_type": "stream",
          "name": "stdout",
          "text": [
            "---\n",
            "\n",
            "三井花園飯店銀座普米爾 0 7511\n",
            "三井花園飯店銀座普米爾,位於銀座,提供高級住宿和便利設施。馬上預訂,享受銀座的繁華!\n"
          ]
        },
        {
          "output_type": "display_data",
          "data": {
            "text/html": [
              "<img src=\"https://image.kkday.com/image/get/w_600%2Cc_fit/s1.kkday.com/product_195358/20241009214603_Q1JVZ/png\" width=\"300\"/>"
            ],
            "text/plain": [
              "<IPython.core.display.Image object>"
            ]
          },
          "metadata": {}
        },
        {
          "output_type": "stream",
          "name": "stdout",
          "text": [
            "---\n",
            "\n",
            "日本東京|東京巨蛋飯店住宿 4.79 1792\n",
            "要預約東京巨蛋飯店住宿套餐就上 KKday!為您提供集結東京巨蛋、遊樂園於一身,東京巨蛋城內高 43 層的高級飯店超值住宿套餐!舒適的空間、時髦又溫馨的裝潢,讓您體驗站在高處遠眺東京都內首屈一指的美景。邀請您來到東京巨蛋飯店內,享受片刻的輕鬆時光。\n"
          ]
        },
        {
          "output_type": "display_data",
          "data": {
            "text/html": [
              "<img src=\"https://image.kkday.com/image/get/w_600%2Cc_fit/s1.kkday.com/product_115055/20211214051412_ze1jD/jpg\" width=\"300\"/>"
            ],
            "text/plain": [
              "<IPython.core.display.Image object>"
            ]
          },
          "metadata": {}
        },
        {
          "output_type": "stream",
          "name": "stdout",
          "text": [
            "---\n",
            "\n",
            "Hotel Comfact 0 1580\n",
            "HOTEL COMFACT(JR UENO) 從山手線 上野站 步行到日比谷線 入谷站 (7分鐘), 從日比谷線 入谷站到山手線 鶯谷站 步行 (5分鐘), 從山手線 鶯谷站 步行 (6分鐘)\n"
          ]
        },
        {
          "output_type": "display_data",
          "data": {
            "text/html": [
              "<img src=\"https://image.kkday.com/image/get/w_600%2Cc_fit/s1.kkday.com/product_191953/20241118090759_p0hLh/png\" width=\"300\"/>"
            ],
            "text/plain": [
              "<IPython.core.display.Image object>"
            ]
          },
          "metadata": {}
        },
        {
          "output_type": "stream",
          "name": "stdout",
          "text": [
            "---\n",
            "\n",
            "相鐵FRESA INN 東京錦糸町 0 1908\n",
            "相鐵FRESA INN 東京錦糸町,交通便利,靠近東京站。即刻預訂,體驗東京的繁華生活!\n"
          ]
        },
        {
          "output_type": "display_data",
          "data": {
            "text/html": [
              "<img src=\"https://image.kkday.com/image/get/w_600%2Cc_fit/s1.kkday.com/product_194684/20241009053024_xbVfK/png\" width=\"300\"/>"
            ],
            "text/plain": [
              "<IPython.core.display.Image object>"
            ]
          },
          "metadata": {}
        },
        {
          "output_type": "stream",
          "name": "stdout",
          "text": [
            "---\n",
            "\n",
            "東京潮見站前LiVEMAX飯店 0 1631\n",
            "前往東京迪士尼度假區與東京車站的交通均很方便 從京葉線潮見站\n"
          ]
        },
        {
          "output_type": "display_data",
          "data": {
            "text/html": [
              "<img src=\"https://image.kkday.com/image/get/w_600%2Cc_fit/s1.kkday.com/product_189342/20241004222657_wnSY9/png\" width=\"300\"/>"
            ],
            "text/plain": [
              "<IPython.core.display.Image object>"
            ]
          },
          "metadata": {}
        },
        {
          "output_type": "stream",
          "name": "stdout",
          "text": [
            "---\n",
            "\n",
            "OMO3 淺草 by 星野集團 0 5581\n",
            "Old Tokyo of Nostalgiato the Unfamiliar 從機場線 羽田機場第1、第2航廈站 搭乘普通電車 (40分鐘)\n"
          ]
        },
        {
          "output_type": "display_data",
          "data": {
            "text/html": [
              "<img src=\"https://image.kkday.com/image/get/w_600%2Cc_fit/s1.kkday.com/product_250653/20240930163835_HkOxQ/png\" width=\"300\"/>"
            ],
            "text/plain": [
              "<IPython.core.display.Image object>"
            ]
          },
          "metadata": {}
        },
        {
          "output_type": "stream",
          "name": "stdout",
          "text": [
            "---\n",
            "\n"
          ]
        }
      ]
    }
  ]
}