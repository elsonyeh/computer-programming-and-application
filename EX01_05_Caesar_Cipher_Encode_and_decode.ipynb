{
  "nbformat": 4,
  "nbformat_minor": 0,
  "metadata": {
    "colab": {
      "provenance": [],
      "authorship_tag": "ABX9TyM6PaUgH6Pv5SlHTB0YtX0z",
      "include_colab_link": true
    },
    "kernelspec": {
      "name": "python3",
      "display_name": "Python 3"
    },
    "language_info": {
      "name": "python"
    }
  },
  "cells": [
    {
      "cell_type": "markdown",
      "metadata": {
        "id": "view-in-github",
        "colab_type": "text"
      },
      "source": [
        "<a href=\"https://colab.research.google.com/github/elsonyeh/computer-programming-and-application/blob/main/EX01_05_Caesar_Cipher_Encode_and_decode.ipynb\" target=\"_parent\"><img src=\"https://colab.research.google.com/assets/colab-badge.svg\" alt=\"Open In Colab\"/></a>"
      ]
    },
    {
      "cell_type": "code",
      "execution_count": 3,
      "metadata": {
        "colab": {
          "base_uri": "https://localhost:8080/"
        },
        "id": "a-eMitqm_561",
        "outputId": "30134d12-915b-4ea5-ef57-f282cb5f6e5f"
      },
      "outputs": [
        {
          "output_type": "stream",
          "name": "stdout",
          "text": [
            "e7\n",
            "Ziie^\n",
            "apple\n"
          ]
        }
      ],
      "source": [
        "#數字key為金鑰，表示加密成往後數n個字母\n",
        "#e表示加密，d表示解密\n",
        "act = input() #加密or解密與金鑰\n",
        "txt = input() #輸入欲轉換的文字\n",
        "\n",
        "act_type = act[0] #判斷為加密或解密\n",
        "key = int(act[1:])  #金鑰\n",
        "newtxt = \"\"\n",
        "if act_type == \"d\": #if為解密\n",
        "  for c in txt:\n",
        "    nc = ord(c) - key\n",
        "    newtxt = newtxt + chr(nc)\n",
        "elif act_type == \"e\": #if為加密\n",
        "  for c in txt:\n",
        "    nc = ord(c) + key\n",
        "    newtxt = newtxt + chr(nc)\n",
        "else:\n",
        "  print(\"輸入錯誤\")\n",
        "\n",
        "\n",
        "print(newtxt)"
      ]
    }
  ]
}