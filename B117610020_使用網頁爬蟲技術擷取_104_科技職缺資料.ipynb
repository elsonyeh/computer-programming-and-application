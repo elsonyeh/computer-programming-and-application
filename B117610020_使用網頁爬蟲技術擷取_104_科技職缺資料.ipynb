{
  "nbformat": 4,
  "nbformat_minor": 0,
  "metadata": {
    "colab": {
      "provenance": [],
      "toc_visible": true,
      "include_colab_link": true
    },
    "kernelspec": {
      "name": "python3",
      "display_name": "Python 3"
    },
    "language_info": {
      "name": "python"
    }
  },
  "cells": [
    {
      "cell_type": "markdown",
      "metadata": {
        "id": "view-in-github",
        "colab_type": "text"
      },
      "source": [
        "<a href=\"https://colab.research.google.com/github/elsonyeh/computer-programming-and-application/blob/main/B117610020_%E4%BD%BF%E7%94%A8%E7%B6%B2%E9%A0%81%E7%88%AC%E8%9F%B2%E6%8A%80%E8%A1%93%E6%93%B7%E5%8F%96_104_%E7%A7%91%E6%8A%80%E8%81%B7%E7%BC%BA%E8%B3%87%E6%96%99.ipynb\" target=\"_parent\"><img src=\"https://colab.research.google.com/assets/colab-badge.svg\" alt=\"Open In Colab\"/></a>"
      ]
    },
    {
      "cell_type": "markdown",
      "source": [
        "# HW02 Web Crawler"
      ],
      "metadata": {
        "id": "eo72fZ0YlURV"
      }
    },
    {
      "cell_type": "markdown",
      "source": [
        "## 題目：使用網頁爬蟲技術擷取 104 科技職缺資料"
      ],
      "metadata": {
        "id": "gUsBAopRJMJD"
      }
    },
    {
      "cell_type": "markdown",
      "source": [
        "## 摘要"
      ],
      "metadata": {
        "id": "hbqT3pl04Hl9"
      }
    },
    {
      "cell_type": "markdown",
      "source": [
        "本報告旨在透過網路爬蟲技術，透過 104 前端職缺搜尋 API 進行科技職缺資料擷取，穩定擷取多個職缺關鍵字的完整職缺資訊。透過 requests 模組搭配 pandas 進行資料整理，擷取包含職缺名稱、公司名稱、地點、薪資、職缺連結等欄位，並儲存為 CSV 格式，可作為後續職缺分析之基礎資料。"
      ],
      "metadata": {
        "id": "eweMw-wh4TC0"
      }
    },
    {
      "cell_type": "markdown",
      "source": [
        "## 引言"
      ],
      "metadata": {
        "id": "9nb1aHAM4XiE"
      }
    },
    {
      "cell_type": "markdown",
      "source": [
        "科技業持續快速發展，科技人才市場競爭激烈。透過自動化爬蟲技術擷取大量職缺資料，有助於掌握產業趨勢、技能需求與公司需求。本專案以 104 為主要資料來源，實作完整爬蟲流程，並擷取多個熱門科技職位之職缺資訊。"
      ],
      "metadata": {
        "id": "0ZmT034r5F9R"
      }
    },
    {
      "cell_type": "markdown",
      "source": [
        "## 方法"
      ],
      "metadata": {
        "id": "8YMFd39F4n4l"
      }
    },
    {
      "cell_type": "markdown",
      "source": [
        "- 目標網站描述\n",
        "  - 目標網站：104人力銀行（https://www.104.com.tw/）\n",
        "  - 目標欄位：職缺名稱、公司名稱、薪資、地點、職缺說明、需求條件與公司福利\n",
        "  - 資料來源：\n",
        "    - 搜尋API：https://www.104.com.tw/jobs/search/list\n",
        "- 工具與技術\n",
        "  - 使用 Python 的 `requests` 套件發送 HTTP 請求並直接存取 104 內部 API\n",
        "  - 使用 `pandas` 套件進行資料整理與儲存\n",
        "  - 使用 Google Chrome 開發者工具協助觀察 API 請求參數與結構\n"
      ],
      "metadata": {
        "id": "zkix6XqZ429E"
      }
    },
    {
      "cell_type": "markdown",
      "source": [
        "#### 匯入套件"
      ],
      "metadata": {
        "id": "-rqSfWEhdlgv"
      }
    },
    {
      "cell_type": "code",
      "source": [
        "import requests\n",
        "import pandas as pd\n",
        "import time\n",
        "\n",
        "from IPython.display import display\n",
        "# 顯示優化設定\n",
        "pd.set_option('display.max_columns', None)\n",
        "pd.set_option('display.width', 1000)"
      ],
      "metadata": {
        "id": "vQZKdKwfdmOg"
      },
      "execution_count": 221,
      "outputs": []
    },
    {
      "cell_type": "markdown",
      "source": [
        "#### 設定搜尋關鍵字列表與資料筆數"
      ],
      "metadata": {
        "id": "RMdiIm04p11t"
      }
    },
    {
      "cell_type": "code",
      "source": [
        "# 要搜尋的多個職缺關鍵字\n",
        "keywords = [\n",
        "    \"軟體工程師\", \"資料工程師\", \"資料科學家\", \"人工智慧\", \"機器學習\", \"大數據\", \"雲端工程師\", \"資安工程師\", \"DevOps\",\n",
        "    \"前端工程師\", \"後端工程師\", \"全端工程師\", \"系統工程師\",\n",
        "    \"網路工程師\", \"資料庫工程師\"\n",
        "]\n",
        "\n",
        "# 每個關鍵字要擷取幾筆\n",
        "target_count = 30"
      ],
      "metadata": {
        "id": "pFsAW6Cvp07e"
      },
      "execution_count": 239,
      "outputs": []
    },
    {
      "cell_type": "markdown",
      "source": [
        "#### 取得職缺列表"
      ],
      "metadata": {
        "id": "nQMtx-3iD3ME"
      }
    },
    {
      "cell_type": "code",
      "source": [
        "def get_job_list(keyword, page):\n",
        "    url = \"https://www.104.com.tw/jobs/search/list\"\n",
        "    params = {\n",
        "        \"ro\": \"1\",\n",
        "        \"keyword\": keyword,\n",
        "        \"order\": \"11\",\n",
        "        \"asc\": \"0\",\n",
        "        \"page\": page,\n",
        "        \"mode\": \"l\"\n",
        "    }\n",
        "\n",
        "    headers = {\n",
        "        \"User-Agent\": \"Mozilla/5.0 (Windows NT 10.0; Win64; x64)\",\n",
        "        \"Referer\": \"https://www.104.com.tw/\"\n",
        "    }\n",
        "\n",
        "    res = requests.get(url, headers=headers, params=params)\n",
        "\n",
        "    if res.status_code != 200:\n",
        "        print(f\"API擷取失敗，狀態碼：{res.status_code}\")\n",
        "        return []\n",
        "\n",
        "    data = res.json()\n",
        "    job_list = data.get(\"data\", {}).get(\"list\", [])\n",
        "\n",
        "    jobs = []\n",
        "    for job in job_list:\n",
        "        jobs.append({\n",
        "            \"職缺名稱\": job.get(\"jobName\", \"\"),\n",
        "            \"公司名稱\": job.get(\"custName\", \"\"),\n",
        "            \"工作地點\": job.get(\"jobAddrNoDesc\", \"\"),\n",
        "            \"薪資\": job.get(\"salaryDesc\", \"\"),\n",
        "            \"職缺連結\": f\"https://www.104.com.tw/job/{job.get('jobNo')}\",\n",
        "        })\n",
        "\n",
        "    return jobs"
      ],
      "metadata": {
        "id": "If-EGn5yFcVt"
      },
      "execution_count": 240,
      "outputs": []
    },
    {
      "cell_type": "markdown",
      "source": [
        "#### 主程式"
      ],
      "metadata": {
        "id": "cPeIpZ7-kAU5"
      }
    },
    {
      "cell_type": "code",
      "source": [
        "#job_type=查詢內容/target_success_count=資料計數\n",
        "def crawl_jobs_multi(keywords, target_count):\n",
        "    all_data = []\n",
        "\n",
        "    for keyword in keywords:\n",
        "        print(f\"\\n正在擷取關鍵字：{keyword}\")\n",
        "        page = 1\n",
        "        keyword_data = []\n",
        "\n",
        "        while len(keyword_data) < target_count:\n",
        "            jobs = get_job_list(keyword, page)\n",
        "            if not jobs:\n",
        "                break\n",
        "\n",
        "            for job in jobs:\n",
        "                keyword_data.append(job)\n",
        "                if len(keyword_data) >= target_count:\n",
        "                    break\n",
        "\n",
        "            page += 1\n",
        "            time.sleep(0.5)\n",
        "\n",
        "        print(f\"{keyword} 擷取完成，共 {len(keyword_data)} 筆\")\n",
        "        all_data.extend(keyword_data[:target_count])\n",
        "\n",
        "    return pd.DataFrame(all_data)"
      ],
      "metadata": {
        "id": "jw2yQz_Ld7MS"
      },
      "execution_count": 243,
      "outputs": []
    },
    {
      "cell_type": "markdown",
      "source": [
        "#### 資料整理與儲存"
      ],
      "metadata": {
        "id": "6v62SGYmeATq"
      }
    },
    {
      "cell_type": "code",
      "source": [
        "df = crawl_jobs_multi(keywords, target_count)\n",
        "df.to_csv(\"104職缺資料.csv\", index=False)\n",
        "print(f\"\\n全部關鍵字擷取完成！共收集 {len(df)} 筆資料。\")\n",
        "\n",
        "display(pd.concat([df.head(5), df.tail(5)]))"
      ],
      "metadata": {
        "colab": {
          "base_uri": "https://localhost:8080/",
          "height": 1000
        },
        "id": "Gckh3zkdd7KV",
        "outputId": "a11977f3-e136-45b3-86f1-bc32c1a98ce0"
      },
      "execution_count": 244,
      "outputs": [
        {
          "output_type": "stream",
          "name": "stdout",
          "text": [
            "\n",
            "正在擷取關鍵字：軟體工程師\n",
            "軟體工程師 擷取完成，共 30 筆\n",
            "\n",
            "正在擷取關鍵字：資料工程師\n",
            "資料工程師 擷取完成，共 30 筆\n",
            "\n",
            "正在擷取關鍵字：資料科學家\n",
            "資料科學家 擷取完成，共 30 筆\n",
            "\n",
            "正在擷取關鍵字：人工智慧\n",
            "人工智慧 擷取完成，共 30 筆\n",
            "\n",
            "正在擷取關鍵字：機器學習\n",
            "機器學習 擷取完成，共 30 筆\n",
            "\n",
            "正在擷取關鍵字：大數據\n",
            "大數據 擷取完成，共 30 筆\n",
            "\n",
            "正在擷取關鍵字：雲端工程師\n",
            "雲端工程師 擷取完成，共 30 筆\n",
            "\n",
            "正在擷取關鍵字：資安工程師\n",
            "資安工程師 擷取完成，共 30 筆\n",
            "\n",
            "正在擷取關鍵字：DevOps\n",
            "DevOps 擷取完成，共 30 筆\n",
            "\n",
            "正在擷取關鍵字：前端工程師\n",
            "前端工程師 擷取完成，共 30 筆\n",
            "\n",
            "正在擷取關鍵字：後端工程師\n",
            "後端工程師 擷取完成，共 30 筆\n",
            "\n",
            "正在擷取關鍵字：全端工程師\n",
            "全端工程師 擷取完成，共 30 筆\n",
            "\n",
            "正在擷取關鍵字：系統工程師\n",
            "系統工程師 擷取完成，共 30 筆\n",
            "\n",
            "正在擷取關鍵字：網路工程師\n",
            "網路工程師 擷取完成，共 30 筆\n",
            "\n",
            "正在擷取關鍵字：資料庫工程師\n",
            "資料庫工程師 擷取完成，共 30 筆\n",
            "\n",
            "全部關鍵字擷取完成！共收集 450 筆資料。\n"
          ]
        },
        {
          "output_type": "display_data",
          "data": {
            "text/plain": [
              "                                                  職缺名稱              公司名稱    工作地點                      薪資                                 職缺連結\n",
              "0                                         軟體工程師 Golang      線上探索科技股份有限公司  台北市大同區                    待遇面議  https://www.104.com.tw/job/14271913\n",
              "1    【北士科】Software Engineer, Legal Automation &amp;...       沛思坦網路股份有限公司  台北市北投區                    待遇面議  https://www.104.com.tw/job/14559109\n",
              "2                                                軟體工程師        衡碁科技股份有限公司  新竹縣湖口鄉        月薪42,000~60,000元  https://www.104.com.tw/job/11446450\n",
              "3                                              程式軟體工程師     泳鉅鑫再生塑料股份有限公司  台南市永康區        月薪50,000~80,000元  https://www.104.com.tw/job/14669353\n",
              "4            軟體工程師（software engineer)（Tijuana, Mexico)        松澤企業股份有限公司     墨西哥  年薪1,000,000~2,000,000元  https://www.104.com.tw/job/14659513\n",
              "445               PHP 工程師（原生PHP + MySQL開發｜直銷專案｜具備前端基礎）  立馬吃一鍋_立馬雲集股份有限公司  台北市大安區        月薪38,000~50,000元  https://www.104.com.tw/job/14372299\n",
              "446                                            資訊軟體工程師          侑盈科技有限公司  新北市三重區             月薪35,000元以上  https://www.104.com.tw/job/11257600\n",
              "447                                       GIS地理資訊系統工程師       河畔果管理顧問有限公司  台北市信義區                    待遇面議  https://www.104.com.tw/job/13616913\n",
              "448                                            AI研發工程師     樂倍達數位科技股份有限公司  台北市中山區                    待遇面議  https://www.104.com.tw/job/14657328\n",
              "449                                            資料庫管理人員        台灣基康股份有限公司  台北市信義區        月薪33,000~35,000元  https://www.104.com.tw/job/11875621"
            ],
            "text/html": [
              "\n",
              "  <div id=\"df-df3fcf07-ec18-41ec-a77d-40f68051e7dd\" class=\"colab-df-container\">\n",
              "    <div>\n",
              "<style scoped>\n",
              "    .dataframe tbody tr th:only-of-type {\n",
              "        vertical-align: middle;\n",
              "    }\n",
              "\n",
              "    .dataframe tbody tr th {\n",
              "        vertical-align: top;\n",
              "    }\n",
              "\n",
              "    .dataframe thead th {\n",
              "        text-align: right;\n",
              "    }\n",
              "</style>\n",
              "<table border=\"1\" class=\"dataframe\">\n",
              "  <thead>\n",
              "    <tr style=\"text-align: right;\">\n",
              "      <th></th>\n",
              "      <th>職缺名稱</th>\n",
              "      <th>公司名稱</th>\n",
              "      <th>工作地點</th>\n",
              "      <th>薪資</th>\n",
              "      <th>職缺連結</th>\n",
              "    </tr>\n",
              "  </thead>\n",
              "  <tbody>\n",
              "    <tr>\n",
              "      <th>0</th>\n",
              "      <td>軟體工程師 Golang</td>\n",
              "      <td>線上探索科技股份有限公司</td>\n",
              "      <td>台北市大同區</td>\n",
              "      <td>待遇面議</td>\n",
              "      <td>https://www.104.com.tw/job/14271913</td>\n",
              "    </tr>\n",
              "    <tr>\n",
              "      <th>1</th>\n",
              "      <td>【北士科】Software Engineer, Legal Automation &amp;amp;...</td>\n",
              "      <td>沛思坦網路股份有限公司</td>\n",
              "      <td>台北市北投區</td>\n",
              "      <td>待遇面議</td>\n",
              "      <td>https://www.104.com.tw/job/14559109</td>\n",
              "    </tr>\n",
              "    <tr>\n",
              "      <th>2</th>\n",
              "      <td>軟體工程師</td>\n",
              "      <td>衡碁科技股份有限公司</td>\n",
              "      <td>新竹縣湖口鄉</td>\n",
              "      <td>月薪42,000~60,000元</td>\n",
              "      <td>https://www.104.com.tw/job/11446450</td>\n",
              "    </tr>\n",
              "    <tr>\n",
              "      <th>3</th>\n",
              "      <td>程式軟體工程師</td>\n",
              "      <td>泳鉅鑫再生塑料股份有限公司</td>\n",
              "      <td>台南市永康區</td>\n",
              "      <td>月薪50,000~80,000元</td>\n",
              "      <td>https://www.104.com.tw/job/14669353</td>\n",
              "    </tr>\n",
              "    <tr>\n",
              "      <th>4</th>\n",
              "      <td>軟體工程師（software engineer)（Tijuana, Mexico)</td>\n",
              "      <td>松澤企業股份有限公司</td>\n",
              "      <td>墨西哥</td>\n",
              "      <td>年薪1,000,000~2,000,000元</td>\n",
              "      <td>https://www.104.com.tw/job/14659513</td>\n",
              "    </tr>\n",
              "    <tr>\n",
              "      <th>445</th>\n",
              "      <td>PHP 工程師（原生PHP + MySQL開發｜直銷專案｜具備前端基礎）</td>\n",
              "      <td>立馬吃一鍋_立馬雲集股份有限公司</td>\n",
              "      <td>台北市大安區</td>\n",
              "      <td>月薪38,000~50,000元</td>\n",
              "      <td>https://www.104.com.tw/job/14372299</td>\n",
              "    </tr>\n",
              "    <tr>\n",
              "      <th>446</th>\n",
              "      <td>資訊軟體工程師</td>\n",
              "      <td>侑盈科技有限公司</td>\n",
              "      <td>新北市三重區</td>\n",
              "      <td>月薪35,000元以上</td>\n",
              "      <td>https://www.104.com.tw/job/11257600</td>\n",
              "    </tr>\n",
              "    <tr>\n",
              "      <th>447</th>\n",
              "      <td>GIS地理資訊系統工程師</td>\n",
              "      <td>河畔果管理顧問有限公司</td>\n",
              "      <td>台北市信義區</td>\n",
              "      <td>待遇面議</td>\n",
              "      <td>https://www.104.com.tw/job/13616913</td>\n",
              "    </tr>\n",
              "    <tr>\n",
              "      <th>448</th>\n",
              "      <td>AI研發工程師</td>\n",
              "      <td>樂倍達數位科技股份有限公司</td>\n",
              "      <td>台北市中山區</td>\n",
              "      <td>待遇面議</td>\n",
              "      <td>https://www.104.com.tw/job/14657328</td>\n",
              "    </tr>\n",
              "    <tr>\n",
              "      <th>449</th>\n",
              "      <td>資料庫管理人員</td>\n",
              "      <td>台灣基康股份有限公司</td>\n",
              "      <td>台北市信義區</td>\n",
              "      <td>月薪33,000~35,000元</td>\n",
              "      <td>https://www.104.com.tw/job/11875621</td>\n",
              "    </tr>\n",
              "  </tbody>\n",
              "</table>\n",
              "</div>\n",
              "    <div class=\"colab-df-buttons\">\n",
              "\n",
              "  <div class=\"colab-df-container\">\n",
              "    <button class=\"colab-df-convert\" onclick=\"convertToInteractive('df-df3fcf07-ec18-41ec-a77d-40f68051e7dd')\"\n",
              "            title=\"Convert this dataframe to an interactive table.\"\n",
              "            style=\"display:none;\">\n",
              "\n",
              "  <svg xmlns=\"http://www.w3.org/2000/svg\" height=\"24px\" viewBox=\"0 -960 960 960\">\n",
              "    <path d=\"M120-120v-720h720v720H120Zm60-500h600v-160H180v160Zm220 220h160v-160H400v160Zm0 220h160v-160H400v160ZM180-400h160v-160H180v160Zm440 0h160v-160H620v160ZM180-180h160v-160H180v160Zm440 0h160v-160H620v160Z\"/>\n",
              "  </svg>\n",
              "    </button>\n",
              "\n",
              "  <style>\n",
              "    .colab-df-container {\n",
              "      display:flex;\n",
              "      gap: 12px;\n",
              "    }\n",
              "\n",
              "    .colab-df-convert {\n",
              "      background-color: #E8F0FE;\n",
              "      border: none;\n",
              "      border-radius: 50%;\n",
              "      cursor: pointer;\n",
              "      display: none;\n",
              "      fill: #1967D2;\n",
              "      height: 32px;\n",
              "      padding: 0 0 0 0;\n",
              "      width: 32px;\n",
              "    }\n",
              "\n",
              "    .colab-df-convert:hover {\n",
              "      background-color: #E2EBFA;\n",
              "      box-shadow: 0px 1px 2px rgba(60, 64, 67, 0.3), 0px 1px 3px 1px rgba(60, 64, 67, 0.15);\n",
              "      fill: #174EA6;\n",
              "    }\n",
              "\n",
              "    .colab-df-buttons div {\n",
              "      margin-bottom: 4px;\n",
              "    }\n",
              "\n",
              "    [theme=dark] .colab-df-convert {\n",
              "      background-color: #3B4455;\n",
              "      fill: #D2E3FC;\n",
              "    }\n",
              "\n",
              "    [theme=dark] .colab-df-convert:hover {\n",
              "      background-color: #434B5C;\n",
              "      box-shadow: 0px 1px 3px 1px rgba(0, 0, 0, 0.15);\n",
              "      filter: drop-shadow(0px 1px 2px rgba(0, 0, 0, 0.3));\n",
              "      fill: #FFFFFF;\n",
              "    }\n",
              "  </style>\n",
              "\n",
              "    <script>\n",
              "      const buttonEl =\n",
              "        document.querySelector('#df-df3fcf07-ec18-41ec-a77d-40f68051e7dd button.colab-df-convert');\n",
              "      buttonEl.style.display =\n",
              "        google.colab.kernel.accessAllowed ? 'block' : 'none';\n",
              "\n",
              "      async function convertToInteractive(key) {\n",
              "        const element = document.querySelector('#df-df3fcf07-ec18-41ec-a77d-40f68051e7dd');\n",
              "        const dataTable =\n",
              "          await google.colab.kernel.invokeFunction('convertToInteractive',\n",
              "                                                    [key], {});\n",
              "        if (!dataTable) return;\n",
              "\n",
              "        const docLinkHtml = 'Like what you see? Visit the ' +\n",
              "          '<a target=\"_blank\" href=https://colab.research.google.com/notebooks/data_table.ipynb>data table notebook</a>'\n",
              "          + ' to learn more about interactive tables.';\n",
              "        element.innerHTML = '';\n",
              "        dataTable['output_type'] = 'display_data';\n",
              "        await google.colab.output.renderOutput(dataTable, element);\n",
              "        const docLink = document.createElement('div');\n",
              "        docLink.innerHTML = docLinkHtml;\n",
              "        element.appendChild(docLink);\n",
              "      }\n",
              "    </script>\n",
              "  </div>\n",
              "\n",
              "\n",
              "    <div id=\"df-5f412bc4-a325-4625-a319-43d137cebda3\">\n",
              "      <button class=\"colab-df-quickchart\" onclick=\"quickchart('df-5f412bc4-a325-4625-a319-43d137cebda3')\"\n",
              "                title=\"Suggest charts\"\n",
              "                style=\"display:none;\">\n",
              "\n",
              "<svg xmlns=\"http://www.w3.org/2000/svg\" height=\"24px\"viewBox=\"0 0 24 24\"\n",
              "     width=\"24px\">\n",
              "    <g>\n",
              "        <path d=\"M19 3H5c-1.1 0-2 .9-2 2v14c0 1.1.9 2 2 2h14c1.1 0 2-.9 2-2V5c0-1.1-.9-2-2-2zM9 17H7v-7h2v7zm4 0h-2V7h2v10zm4 0h-2v-4h2v4z\"/>\n",
              "    </g>\n",
              "</svg>\n",
              "      </button>\n",
              "\n",
              "<style>\n",
              "  .colab-df-quickchart {\n",
              "      --bg-color: #E8F0FE;\n",
              "      --fill-color: #1967D2;\n",
              "      --hover-bg-color: #E2EBFA;\n",
              "      --hover-fill-color: #174EA6;\n",
              "      --disabled-fill-color: #AAA;\n",
              "      --disabled-bg-color: #DDD;\n",
              "  }\n",
              "\n",
              "  [theme=dark] .colab-df-quickchart {\n",
              "      --bg-color: #3B4455;\n",
              "      --fill-color: #D2E3FC;\n",
              "      --hover-bg-color: #434B5C;\n",
              "      --hover-fill-color: #FFFFFF;\n",
              "      --disabled-bg-color: #3B4455;\n",
              "      --disabled-fill-color: #666;\n",
              "  }\n",
              "\n",
              "  .colab-df-quickchart {\n",
              "    background-color: var(--bg-color);\n",
              "    border: none;\n",
              "    border-radius: 50%;\n",
              "    cursor: pointer;\n",
              "    display: none;\n",
              "    fill: var(--fill-color);\n",
              "    height: 32px;\n",
              "    padding: 0;\n",
              "    width: 32px;\n",
              "  }\n",
              "\n",
              "  .colab-df-quickchart:hover {\n",
              "    background-color: var(--hover-bg-color);\n",
              "    box-shadow: 0 1px 2px rgba(60, 64, 67, 0.3), 0 1px 3px 1px rgba(60, 64, 67, 0.15);\n",
              "    fill: var(--button-hover-fill-color);\n",
              "  }\n",
              "\n",
              "  .colab-df-quickchart-complete:disabled,\n",
              "  .colab-df-quickchart-complete:disabled:hover {\n",
              "    background-color: var(--disabled-bg-color);\n",
              "    fill: var(--disabled-fill-color);\n",
              "    box-shadow: none;\n",
              "  }\n",
              "\n",
              "  .colab-df-spinner {\n",
              "    border: 2px solid var(--fill-color);\n",
              "    border-color: transparent;\n",
              "    border-bottom-color: var(--fill-color);\n",
              "    animation:\n",
              "      spin 1s steps(1) infinite;\n",
              "  }\n",
              "\n",
              "  @keyframes spin {\n",
              "    0% {\n",
              "      border-color: transparent;\n",
              "      border-bottom-color: var(--fill-color);\n",
              "      border-left-color: var(--fill-color);\n",
              "    }\n",
              "    20% {\n",
              "      border-color: transparent;\n",
              "      border-left-color: var(--fill-color);\n",
              "      border-top-color: var(--fill-color);\n",
              "    }\n",
              "    30% {\n",
              "      border-color: transparent;\n",
              "      border-left-color: var(--fill-color);\n",
              "      border-top-color: var(--fill-color);\n",
              "      border-right-color: var(--fill-color);\n",
              "    }\n",
              "    40% {\n",
              "      border-color: transparent;\n",
              "      border-right-color: var(--fill-color);\n",
              "      border-top-color: var(--fill-color);\n",
              "    }\n",
              "    60% {\n",
              "      border-color: transparent;\n",
              "      border-right-color: var(--fill-color);\n",
              "    }\n",
              "    80% {\n",
              "      border-color: transparent;\n",
              "      border-right-color: var(--fill-color);\n",
              "      border-bottom-color: var(--fill-color);\n",
              "    }\n",
              "    90% {\n",
              "      border-color: transparent;\n",
              "      border-bottom-color: var(--fill-color);\n",
              "    }\n",
              "  }\n",
              "</style>\n",
              "\n",
              "      <script>\n",
              "        async function quickchart(key) {\n",
              "          const quickchartButtonEl =\n",
              "            document.querySelector('#' + key + ' button');\n",
              "          quickchartButtonEl.disabled = true;  // To prevent multiple clicks.\n",
              "          quickchartButtonEl.classList.add('colab-df-spinner');\n",
              "          try {\n",
              "            const charts = await google.colab.kernel.invokeFunction(\n",
              "                'suggestCharts', [key], {});\n",
              "          } catch (error) {\n",
              "            console.error('Error during call to suggestCharts:', error);\n",
              "          }\n",
              "          quickchartButtonEl.classList.remove('colab-df-spinner');\n",
              "          quickchartButtonEl.classList.add('colab-df-quickchart-complete');\n",
              "        }\n",
              "        (() => {\n",
              "          let quickchartButtonEl =\n",
              "            document.querySelector('#df-5f412bc4-a325-4625-a319-43d137cebda3 button');\n",
              "          quickchartButtonEl.style.display =\n",
              "            google.colab.kernel.accessAllowed ? 'block' : 'none';\n",
              "        })();\n",
              "      </script>\n",
              "    </div>\n",
              "\n",
              "    </div>\n",
              "  </div>\n"
            ],
            "application/vnd.google.colaboratory.intrinsic+json": {
              "type": "dataframe",
              "summary": "{\n  \"name\": \"display(pd\",\n  \"rows\": 10,\n  \"fields\": [\n    {\n      \"column\": \"\\u8077\\u7f3a\\u540d\\u7a31\",\n      \"properties\": {\n        \"dtype\": \"string\",\n        \"num_unique_values\": 10,\n        \"samples\": [\n          \"AI\\u7814\\u767c\\u5de5\\u7a0b\\u5e2b\",\n          \"\\u3010\\u5317\\u58eb\\u79d1\\u3011Software Engineer, Legal Automation &amp; AI Integration (Python/PHP) \\u6cd5\\u5f8b\\u81ea\\u52d5\\u5316\\u8207AI\\u6574\\u5408\\u8edf\\u9ad4\\u5de5\\u7a0b\\u5e2b\",\n          \"PHP \\u5de5\\u7a0b\\u5e2b\\uff08\\u539f\\u751fPHP + MySQL\\u958b\\u767c\\uff5c\\u76f4\\u92b7\\u5c08\\u6848\\uff5c\\u5177\\u5099\\u524d\\u7aef\\u57fa\\u790e\\uff09\"\n        ],\n        \"semantic_type\": \"\",\n        \"description\": \"\"\n      }\n    },\n    {\n      \"column\": \"\\u516c\\u53f8\\u540d\\u7a31\",\n      \"properties\": {\n        \"dtype\": \"string\",\n        \"num_unique_values\": 10,\n        \"samples\": [\n          \"\\u6a02\\u500d\\u9054\\u6578\\u4f4d\\u79d1\\u6280\\u80a1\\u4efd\\u6709\\u9650\\u516c\\u53f8\",\n          \"\\u6c9b\\u601d\\u5766\\u7db2\\u8def\\u80a1\\u4efd\\u6709\\u9650\\u516c\\u53f8\",\n          \"\\u7acb\\u99ac\\u5403\\u4e00\\u934b_\\u7acb\\u99ac\\u96f2\\u96c6\\u80a1\\u4efd\\u6709\\u9650\\u516c\\u53f8\"\n        ],\n        \"semantic_type\": \"\",\n        \"description\": \"\"\n      }\n    },\n    {\n      \"column\": \"\\u5de5\\u4f5c\\u5730\\u9ede\",\n      \"properties\": {\n        \"dtype\": \"string\",\n        \"num_unique_values\": 9,\n        \"samples\": [\n          \"\\u53f0\\u5317\\u5e02\\u4fe1\\u7fa9\\u5340\",\n          \"\\u53f0\\u5317\\u5e02\\u5317\\u6295\\u5340\",\n          \"\\u53f0\\u5317\\u5e02\\u5927\\u5b89\\u5340\"\n        ],\n        \"semantic_type\": \"\",\n        \"description\": \"\"\n      }\n    },\n    {\n      \"column\": \"\\u85aa\\u8cc7\",\n      \"properties\": {\n        \"dtype\": \"string\",\n        \"num_unique_values\": 7,\n        \"samples\": [\n          \"\\u5f85\\u9047\\u9762\\u8b70\",\n          \"\\u6708\\u85aa42,000~60,000\\u5143\",\n          \"\\u6708\\u85aa35,000\\u5143\\u4ee5\\u4e0a\"\n        ],\n        \"semantic_type\": \"\",\n        \"description\": \"\"\n      }\n    },\n    {\n      \"column\": \"\\u8077\\u7f3a\\u9023\\u7d50\",\n      \"properties\": {\n        \"dtype\": \"string\",\n        \"num_unique_values\": 10,\n        \"samples\": [\n          \"https://www.104.com.tw/job/14657328\",\n          \"https://www.104.com.tw/job/14559109\",\n          \"https://www.104.com.tw/job/14372299\"\n        ],\n        \"semantic_type\": \"\",\n        \"description\": \"\"\n      }\n    }\n  ]\n}"
            }
          },
          "metadata": {}
        }
      ]
    },
    {
      "cell_type": "markdown",
      "source": [
        "## 結果\n"
      ],
      "metadata": {
        "id": "mHEo_iad7QMa"
      }
    },
    {
      "cell_type": "markdown",
      "source": [
        "- 成功透過 104 API 擷取 15 組科技職缺關鍵字，每組擷取 30 筆，共取得 450 筆完整職缺資訊並整理儲存。\n",
        "\n",
        "- 數據存儲方式\n",
        "  - 將數據存儲為 CSV 格式，方便後續分析。"
      ],
      "metadata": {
        "id": "Fx3h33cU8n8t"
      }
    },
    {
      "cell_type": "markdown",
      "source": [
        "## 問題與挑戰"
      ],
      "metadata": {
        "id": "6yHFop_b73gY"
      }
    },
    {
      "cell_type": "markdown",
      "source": [
        "- 104 網站職缺列表改為 JavaScript 動態載入，必須改採內部 API 擷取\n",
        "- API 回傳資料為 JSON 格式，需正確解析多層巢狀結構\n",
        "- 每次請求需注意適當延遲以避免被封鎖\n",
        "- 需控制請求速率避免觸發反爬蟲機制\n",
        "- 詳細頁資料仍需額外 API 取得與整合"
      ],
      "metadata": {
        "id": "D6roihku8PBu"
      }
    },
    {
      "cell_type": "markdown",
      "source": [
        "## 結論"
      ],
      "metadata": {
        "id": "VeQHgVuqqD3J"
      }
    },
    {
      "cell_type": "markdown",
      "source": [
        "\n",
        "- 本專案成功實作完整 104 API 科技職缺自動化擷取流程，透過 104 搜尋 API 快速穩定地擷取多關鍵字完整職缺資訊，可用於後續職缺分析與科技人才市場趨勢研究。"
      ],
      "metadata": {
        "id": "Baea2g7J9DAL"
      }
    },
    {
      "cell_type": "markdown",
      "source": [
        "## 參考文獻"
      ],
      "metadata": {
        "id": "j5hI_9QW9dTt"
      }
    },
    {
      "cell_type": "markdown",
      "source": [
        "* [104人力銀行](https://www.104.com.tw/)"
      ],
      "metadata": {
        "id": "eLFvp2Fk9fSa"
      }
    }
  ]
}