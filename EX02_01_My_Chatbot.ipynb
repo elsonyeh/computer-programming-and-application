{
  "nbformat": 4,
  "nbformat_minor": 0,
  "metadata": {
    "colab": {
      "provenance": [],
      "authorship_tag": "ABX9TyOvaw9+qGWejlEw+bgJedCl",
      "include_colab_link": true
    },
    "kernelspec": {
      "name": "python3",
      "display_name": "Python 3"
    },
    "language_info": {
      "name": "python"
    }
  },
  "cells": [
    {
      "cell_type": "markdown",
      "metadata": {
        "id": "view-in-github",
        "colab_type": "text"
      },
      "source": [
        "<a href=\"https://colab.research.google.com/github/elsonyeh/computer-programming-and-application/blob/main/EX02_01_My_Chatbot.ipynb\" target=\"_parent\"><img src=\"https://colab.research.google.com/assets/colab-badge.svg\" alt=\"Open In Colab\"/></a>"
      ]
    },
    {
      "cell_type": "code",
      "execution_count": 4,
      "metadata": {
        "id": "4mHWDrSJSJ9I"
      },
      "outputs": [],
      "source": [
        "from google.colab import userdata\n",
        "import google.generativeai as genai\n",
        "\n",
        "genai.configure(api_key=userdata.get('GOOGLE_API_KEY')) #存取密鑰\n",
        "\n",
        "#設定參數\n",
        "generation_config = {\n",
        "  \"temperature\": 1,\n",
        "  \"max_output_tokens\": 1280\n",
        "}\n",
        "\n",
        "model = genai.GenerativeModel(\n",
        "    model_name=\"gemini-2.0-flash\", #設定使用的model\n",
        "    generation_config=generation_config #設定參數\n",
        ")"
      ]
    },
    {
      "cell_type": "code",
      "source": [
        "from IPython.display import Markdown, display  #匯入Markdown語法\n",
        "\n",
        "chat = model.start_chat(history=[])\n",
        "\n",
        "while True:\n",
        "  message = input(\"You: \")\n",
        "  if message == \"bye!\":\n",
        "    break\n",
        "  response = chat.send_message(message)\n",
        "  print(\"Bot: \")\n",
        "  display(Markdown(response.text))"
      ],
      "metadata": {
        "colab": {
          "base_uri": "https://localhost:8080/",
          "height": 1000
        },
        "id": "s9HIxLUeSyYl",
        "outputId": "979677ad-fcaf-4d84-f10f-1fd9c1573f9d"
      },
      "execution_count": 5,
      "outputs": [
        {
          "output_type": "stream",
          "name": "stdout",
          "text": [
            "You: hi\n",
            "Bot: \n"
          ]
        },
        {
          "output_type": "display_data",
          "data": {
            "text/plain": [
              "<IPython.core.display.Markdown object>"
            ],
            "text/markdown": "Hi there! How can I help you today?\n"
          },
          "metadata": {}
        },
        {
          "output_type": "stream",
          "name": "stdout",
          "text": [
            "You: how ai works\n",
            "Bot: \n"
          ]
        },
        {
          "output_type": "display_data",
          "data": {
            "text/plain": [
              "<IPython.core.display.Markdown object>"
            ],
            "text/markdown": "Okay, explaining how AI works is a big topic, but let's break it down into simpler, more digestible parts.  At its core, AI is about making computers perform tasks that typically require human intelligence.  Here's a simplified overview:\n\n**1. The Basic Principle: Learning from Data**\n\n*   **Data is Key:** AI systems learn from vast amounts of data.  The more data they have, the better they can become. Think of it like learning a new language – you need to be exposed to a lot of words, phrases, and grammar to become fluent.\n*   **Pattern Recognition:**  AI algorithms analyze this data to identify patterns, relationships, and rules.  For example, an AI trained on images of cats and dogs learns to distinguish between them by recognizing specific features like ear shape, nose size, and fur color.\n*   **Making Predictions/Decisions:** Based on the patterns it has learned, the AI can then make predictions or decisions about new, unseen data. If you show the trained AI a new image, it can predict whether it's a cat or a dog.\n\n**2. Key Concepts and Techniques:**\n\nLet's look at some common AI techniques, focusing on Machine Learning (ML), which is the most popular branch of AI:\n\n*   **Machine Learning (ML):**  This is the heart of many AI systems.  Instead of being explicitly programmed to do something, the AI learns from data. There are different types of machine learning:\n    *   **Supervised Learning:**  You provide the AI with labeled data (data where you already know the correct answer).  The AI learns to map the inputs to the correct outputs.  Example:  Training an AI to identify spam emails.  You feed it a dataset of emails labeled as \"spam\" or \"not spam,\" and it learns to distinguish between them.\n    *   **Unsupervised Learning:**  You provide the AI with unlabeled data, and it tries to find patterns and structures on its own.  Example:  Clustering customers into different groups based on their purchasing behavior.\n    *   **Reinforcement Learning:**  The AI learns through trial and error, receiving rewards or penalties for its actions.  Example: Training an AI to play a game like chess.  It learns by playing many games and adjusting its strategy based on whether it wins or loses.\n\n*   **Neural Networks:**  These are inspired by the structure of the human brain.  They consist of interconnected nodes (neurons) organized in layers.  Data flows through these layers, and each connection has a weight that determines how much influence that connection has on the final output.  Adjusting these weights during the learning process is how the neural network learns.\n    *   **Deep Learning:**  A subset of machine learning that uses neural networks with many layers (hence \"deep\"). Deep learning is particularly good at handling complex data like images, audio, and text.\n\n*   **Algorithms:**  These are sets of rules or procedures that the AI follows to analyze data, learn patterns, and make predictions. Examples include:\n    *   **Linear Regression:** For predicting a continuous value (e.g., predicting house prices based on size and location).\n    *   **Decision Trees:** For making decisions based on a series of rules (e.g., deciding whether to approve a loan).\n    *   **Support Vector Machines (SVMs):** For classification tasks (e.g., classifying images).\n    *   **K-Means Clustering:** For grouping data points into clusters (e.g., segmenting customers).\n\n**3. The Process: Training and Deployment**\n\n*   **Data Collection and Preparation:**  Gathering and cleaning the data is a crucial step.  The quality of the data directly affects the AI's performance.\n*   **Model Training:**  The AI algorithm is trained on the data.  This involves feeding the data into the algorithm and adjusting its parameters until it can accurately make predictions.\n*   **Model Evaluation:**  The trained AI model is tested on a separate dataset to evaluate its performance and ensure it generalizes well to new data.\n*   **Deployment:**  The AI model is deployed into a real-world application where it can make predictions or decisions.\n*   **Monitoring and Retraining:** The AI's performance is continuously monitored, and the model is retrained periodically with new data to keep it up-to-date and accurate.\n\n**4. Key Areas Where AI is Used:**\n\n*   **Image Recognition:** Identifying objects, faces, and scenes in images and videos.\n*   **Natural Language Processing (NLP):** Understanding and processing human language (e.g., chatbots, machine translation).\n*   **Speech Recognition:** Converting speech into text (e.g., voice assistants).\n*   **Robotics:** Controlling robots to perform tasks in various environments.\n*   **Recommendation Systems:** Suggesting products, movies, or music based on user preferences.\n*   **Fraud Detection:** Identifying fraudulent transactions.\n*   **Medical Diagnosis:** Assisting doctors in diagnosing diseases.\n\n**In Simple Terms:**\n\nImagine teaching a child to recognize apples. You show the child many pictures of apples of different colors, sizes, and shapes. You tell the child, \"This is an apple.\" After seeing enough examples, the child learns to recognize apples even when they see a new type of apple they haven't seen before. AI works in a similar way, but with much larger datasets and more complex algorithms.\n\n**Important Considerations:**\n\n*   **Bias:** AI can inherit biases from the data it's trained on, leading to unfair or discriminatory outcomes.\n*   **Explainability:**  It can be difficult to understand how some AI models, especially deep learning models, make their decisions. This is known as the \"black box\" problem.\n*   **Ethical Considerations:**  AI raises important ethical questions about privacy, security, and the potential for misuse.\n\nThis is a simplified overview, and there are many other aspects to AI. Do you have any specific questions about AI that I can answer in more detail? For example, are"
          },
          "metadata": {}
        },
        {
          "name": "stdout",
          "output_type": "stream",
          "text": [
            "You: bye!\n"
          ]
        }
      ]
    }
  ]
}