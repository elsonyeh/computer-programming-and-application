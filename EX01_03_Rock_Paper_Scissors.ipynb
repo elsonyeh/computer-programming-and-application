{
  "nbformat": 4,
  "nbformat_minor": 0,
  "metadata": {
    "colab": {
      "provenance": [],
      "authorship_tag": "ABX9TyP+5K5Nnj+4wl6FnQCP426l",
      "include_colab_link": true
    },
    "kernelspec": {
      "name": "python3",
      "display_name": "Python 3"
    },
    "language_info": {
      "name": "python"
    }
  },
  "cells": [
    {
      "cell_type": "markdown",
      "metadata": {
        "id": "view-in-github",
        "colab_type": "text"
      },
      "source": [
        "<a href=\"https://colab.research.google.com/github/elsonyeh/computer-programming-and-application/blob/main/EX01_03_Rock_Paper_Scissors.ipynb\" target=\"_parent\"><img src=\"https://colab.research.google.com/assets/colab-badge.svg\" alt=\"Open In Colab\"/></a>"
      ]
    },
    {
      "cell_type": "code",
      "execution_count": 1,
      "metadata": {
        "id": "6BzI6I8AOnOx",
        "colab": {
          "base_uri": "https://localhost:8080/"
        },
        "outputId": "a093e018-fd88-4df0-b5df-abe991d5aab9"
      },
      "outputs": [
        {
          "output_type": "stream",
          "name": "stdout",
          "text": [
            "2\n",
            "computer:  2\n",
            "平手\n"
          ]
        }
      ],
      "source": [
        "import random\n",
        "\n",
        "ply = int(input()) #使用者\n",
        "cmp = random.choice([0,2,5]) #電腦 0為石頭, 2為剪刀, 5為布\n",
        "print(\"computer: \", cmp)\n",
        "if ply == cmp:\n",
        "    print(\"平手\")\n",
        "elif (ply == 0 and cmp == 2) or (ply == 2 and cmp == 5) or (ply == 5 and cmp == 0):\n",
        "    print(\"你贏了\")\n",
        "else:\n",
        "    print(\"你輸了\")"
      ]
    }
  ]
}