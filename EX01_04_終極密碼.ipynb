{
  "nbformat": 4,
  "nbformat_minor": 0,
  "metadata": {
    "colab": {
      "provenance": [],
      "authorship_tag": "ABX9TyOrbUGVPC5fh9wQ4qpk3EZs",
      "include_colab_link": true
    },
    "kernelspec": {
      "name": "python3",
      "display_name": "Python 3"
    },
    "language_info": {
      "name": "python"
    }
  },
  "cells": [
    {
      "cell_type": "markdown",
      "metadata": {
        "id": "view-in-github",
        "colab_type": "text"
      },
      "source": [
        "<a href=\"https://colab.research.google.com/github/elsonyeh/computer-programming-and-application/blob/main/EX01_04_%E7%B5%82%E6%A5%B5%E5%AF%86%E7%A2%BC.ipynb\" target=\"_parent\"><img src=\"https://colab.research.google.com/assets/colab-badge.svg\" alt=\"Open In Colab\"/></a>"
      ]
    },
    {
      "cell_type": "code",
      "source": [
        "import random\n",
        "bomb = random.randint(1,99)\n",
        "\n",
        "'''旗標法'''\n",
        "min = 0   #左邊界\n",
        "max = 100   #右邊界\n",
        "\n",
        "while True:\n",
        "  guess = int(input(f\"請輸入 {min} ～ {max} 之間的數字：\"))\n",
        "  if (guess < min) or (guess > max):\n",
        "    print(\"超出範圍\")\n",
        "  elif guess > bomb:\n",
        "    max = guess\n",
        "    print(f\"你猜的數字太大了！\")\n",
        "  elif guess < bomb:\n",
        "    min = guess\n",
        "    print(f\"你猜的數字太小了！\")\n",
        "  else:\n",
        "    print(\"恭喜你猜中了！\")\n",
        "    break"
      ],
      "metadata": {
        "colab": {
          "base_uri": "https://localhost:8080/"
        },
        "id": "THH03Oth4TT0",
        "outputId": "d37fcab2-e8ac-4f0d-86d3-f4e85bad1f83"
      },
      "execution_count": 19,
      "outputs": [
        {
          "output_type": "stream",
          "name": "stdout",
          "text": [
            "請輸入 0 ～ 100 之間的數字：50\n",
            "你猜的數字太小了！\n",
            "請輸入 50 ～ 100 之間的數字：101\n",
            "超出範圍\n",
            "請輸入 50 ～ 100 之間的數字：75\n",
            "你猜的數字太大了！\n",
            "請輸入 50 ～ 75 之間的數字：65\n",
            "你猜的數字太大了！\n",
            "請輸入 50 ～ 65 之間的數字：60\n",
            "你猜的數字太大了！\n",
            "請輸入 50 ～ 60 之間的數字：55\n",
            "你猜的數字太小了！\n",
            "請輸入 55 ～ 60 之間的數字：58\n",
            "你猜的數字太大了！\n",
            "請輸入 55 ～ 58 之間的數字：57\n",
            "恭喜你猜中了！\n"
          ]
        }
      ]
    }
  ]
}