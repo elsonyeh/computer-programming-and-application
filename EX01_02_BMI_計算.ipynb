{
  "nbformat": 4,
  "nbformat_minor": 0,
  "metadata": {
    "colab": {
      "provenance": [],
      "authorship_tag": "ABX9TyOk9T1+LR/rOvbvcpt6Zkav",
      "include_colab_link": true
    },
    "kernelspec": {
      "name": "python3",
      "display_name": "Python 3"
    },
    "language_info": {
      "name": "python"
    }
  },
  "cells": [
    {
      "cell_type": "markdown",
      "metadata": {
        "id": "view-in-github",
        "colab_type": "text"
      },
      "source": [
        "<a href=\"https://colab.research.google.com/github/elsonyeh/computer-programming-and-application/blob/main/EX01_02_BMI_%E8%A8%88%E7%AE%97.ipynb\" target=\"_parent\"><img src=\"https://colab.research.google.com/assets/colab-badge.svg\" alt=\"Open In Colab\"/></a>"
      ]
    },
    {
      "cell_type": "code",
      "execution_count": 1,
      "metadata": {
        "colab": {
          "base_uri": "https://localhost:8080/"
        },
        "id": "r0omOB06LCpe",
        "outputId": "81d5efb7-9831-4868-b8e5-5abed7934c78"
      },
      "outputs": [
        {
          "output_type": "stream",
          "name": "stdout",
          "text": [
            "Height(cm): 180\n",
            "Weight(kg): 72\n",
            "BMI:  22.2\n"
          ]
        }
      ],
      "source": [
        "h = float(input(\"Height(cm): \"))\n",
        "w = float(input(\"Weight(kg): \"))\n",
        "bmi = w / (h/100)**2\n",
        "print(\"BMI: \", round(bmi, 1))"
      ]
    }
  ]
}