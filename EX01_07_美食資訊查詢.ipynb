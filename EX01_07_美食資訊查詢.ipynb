{
  "nbformat": 4,
  "nbformat_minor": 0,
  "metadata": {
    "colab": {
      "provenance": [],
      "authorship_tag": "ABX9TyOoF9VA+s2b2wucOZnfb/f5",
      "include_colab_link": true
    },
    "kernelspec": {
      "name": "python3",
      "display_name": "Python 3"
    },
    "language_info": {
      "name": "python"
    }
  },
  "cells": [
    {
      "cell_type": "markdown",
      "metadata": {
        "id": "view-in-github",
        "colab_type": "text"
      },
      "source": [
        "<a href=\"https://colab.research.google.com/github/elsonyeh/computer-programming-and-application/blob/main/EX01_07_%E7%BE%8E%E9%A3%9F%E8%B3%87%E8%A8%8A%E6%9F%A5%E8%A9%A2.ipynb\" target=\"_parent\"><img src=\"https://colab.research.google.com/assets/colab-badge.svg\" alt=\"Open In Colab\"/></a>"
      ]
    },
    {
      "cell_type": "code",
      "source": [
        "!pip install gradio"
      ],
      "metadata": {
        "id": "HlT72t9s440X"
      },
      "execution_count": null,
      "outputs": []
    },
    {
      "cell_type": "code",
      "source": [
        "#gradio使用說明\n",
        "import gradio as gr\n",
        "def greet(name):\n",
        "  return f\"Hello, {name}!\"\n",
        "\n",
        "#建立介面\n",
        "interface = gr.Interface(\n",
        "    fn=greet, #要建立介面的函數\n",
        "    inputs=\"textbox\", #輸入類型\n",
        "    outputs=\"textbox\" #輸出類型\n",
        ")\n",
        "#啟動介面\n",
        "interface.launch()"
      ],
      "metadata": {
        "colab": {
          "base_uri": "https://localhost:8080/",
          "height": 645
        },
        "id": "jdUrqRLZ5ioj",
        "outputId": "cbef689a-f7ac-4d59-eadc-449ab6c97ab1"
      },
      "execution_count": 4,
      "outputs": [
        {
          "output_type": "stream",
          "name": "stdout",
          "text": [
            "Running Gradio in a Colab notebook requires sharing enabled. Automatically setting `share=True` (you can turn this off by setting `share=False` in `launch()` explicitly).\n",
            "\n",
            "Colab notebook detected. To show errors in colab notebook, set debug=True in launch()\n",
            "* Running on public URL: https://841c3b957101ae32fe.gradio.live\n",
            "\n",
            "This share link expires in 72 hours. For free permanent hosting and GPU upgrades, run `gradio deploy` from the terminal in the working directory to deploy to Hugging Face Spaces (https://huggingface.co/spaces)\n"
          ]
        },
        {
          "output_type": "display_data",
          "data": {
            "text/plain": [
              "<IPython.core.display.HTML object>"
            ],
            "text/html": [
              "<div><iframe src=\"https://841c3b957101ae32fe.gradio.live\" width=\"100%\" height=\"500\" allow=\"autoplay; camera; microphone; clipboard-read; clipboard-write;\" frameborder=\"0\" allowfullscreen></iframe></div>"
            ]
          },
          "metadata": {}
        },
        {
          "output_type": "execute_result",
          "data": {
            "text/plain": []
          },
          "metadata": {},
          "execution_count": 4
        }
      ]
    },
    {
      "cell_type": "code",
      "execution_count": 7,
      "metadata": {
        "colab": {
          "base_uri": "https://localhost:8080/",
          "height": 645
        },
        "id": "27IErWW02vcw",
        "outputId": "600acf51-beb5-4e35-90f5-f6453b0e8df7"
      },
      "outputs": [
        {
          "output_type": "stream",
          "name": "stdout",
          "text": [
            "Running Gradio in a Colab notebook requires sharing enabled. Automatically setting `share=True` (you can turn this off by setting `share=False` in `launch()` explicitly).\n",
            "\n",
            "Colab notebook detected. To show errors in colab notebook, set debug=True in launch()\n",
            "* Running on public URL: https://25be0c29abdab94588.gradio.live\n",
            "\n",
            "This share link expires in 72 hours. For free permanent hosting and GPU upgrades, run `gradio deploy` from the terminal in the working directory to deploy to Hugging Face Spaces (https://huggingface.co/spaces)\n"
          ]
        },
        {
          "output_type": "display_data",
          "data": {
            "text/plain": [
              "<IPython.core.display.HTML object>"
            ],
            "text/html": [
              "<div><iframe src=\"https://25be0c29abdab94588.gradio.live\" width=\"100%\" height=\"500\" allow=\"autoplay; camera; microphone; clipboard-read; clipboard-write;\" frameborder=\"0\" allowfullscreen></iframe></div>"
            ]
          },
          "metadata": {}
        },
        {
          "output_type": "execute_result",
          "data": {
            "text/plain": []
          },
          "metadata": {},
          "execution_count": 7
        }
      ],
      "source": [
        "food_database = [\n",
        "  {\"name\":\"春蘭割包\", \"address\": \"800高雄市新興區復興一路5號\", \"phone\":\"+88672917806\"},\n",
        "  {\"name\":\"上海生前湯包\", \"address\": \"807高雄市三民區熱河一街228號\", \"phone\": \"+88673220702\"},\n",
        "  {\"name\":\"岡山舊市羊肉\", \"address\": \"820高雄市岡山區河華路111號\", \"phone\": \"+33676258151\"},\n",
        "  {\"name\":\"黃家肉燥飯\", \"address\": \"825高雄市橋頭區橋南路106號\", \"phone\": \"+88676123253\"},\n",
        "  {\"name\":\"龍記餡餅\", \"address\": \"820高雄市岡山區溪東路2號\", \"phone\":\"\"}\n",
        "]\n",
        "\n",
        "menu = [food[\"name\"] for food in food_database]\n",
        "\n",
        "\n",
        "def food_info(store_name):\n",
        "  info = \"\"\n",
        "  for food in food_database:\n",
        "    if store_name == food[\"name\"]:\n",
        "      info = \"店名: \" + food[\"name\"] + \"\\n地址: \" + food[\"address\"] + \"\\n電話: \" + food[\"phone\"]\n",
        "      return info\n",
        "  return \"Not Found!\"\n",
        "\n",
        "#建立介面\n",
        "interface = gr.Interface(\n",
        "    fn=food_info, #要建立介面的函數\n",
        "    inputs=gr.Dropdown(choices=menu, label=\"請選擇一間餐廳\"), #輸入類型\n",
        "    outputs=gr.Textbox(label=\"餐廳資訊\") #輸出類型\n",
        ")\n",
        "#啟動介面\n",
        "interface.launch()"
      ]
    }
  ]
}